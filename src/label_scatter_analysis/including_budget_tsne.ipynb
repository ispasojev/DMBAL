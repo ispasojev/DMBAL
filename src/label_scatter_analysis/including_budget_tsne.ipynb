{
 "cells": [
  {
   "cell_type": "code",
   "execution_count": 1,
   "metadata": {},
   "outputs": [
    {
     "name": "stdout",
     "output_type": "stream",
     "text": [
      "Files already downloaded and verified\n",
      "Files already downloaded and verified\n"
     ]
    },
    {
     "data": {
      "text/plain": [
       "50000"
      ]
     },
     "execution_count": 1,
     "metadata": {},
     "output_type": "execute_result"
    }
   ],
   "source": [
    "import time\n",
    "import pandas as pd\n",
    "import numpy as np\n",
    "import matplotlib.pyplot as plt\n",
    "import matplotlib.patheffects as PathEffects\n",
    "import seaborn as sns\n",
    "from src.data.DataLoader import get_dataset\n",
    "\n",
    "# zuerst files die ich brauche temporär downloaden oder direkt laden mittels library, dann hat man es lokal\n",
    "#      und von dort aus richtigen Pfad nehmen\n",
    "# get out_dir (ist in den runs in out_dir eingespeichert)\n",
    "# dann files öffnen\n",
    "# in pd dataframes laden: pd.read_csv(out_dir + \"/file\")\n",
    "# dann mit plot aus tutorial anzeigen lassenfrom\n",
    "\n",
    "sns.set_style('darkgrid')\n",
    "sns.set_palette('muted')\n",
    "sns.set_context(\"notebook\", font_scale=1.5,\n",
    "                rc={\"lines.linewidth\": 2.5})\n",
    "#data_handler, d_args = get_handler_and_args(\"CIFAR10\")\n",
    "# S: Das sind die Roh-Daten, die (bzw. X_tr) müssen mit PCA oder Tsne transformiert werden.\n",
    "# Dann werden diese Daten im zweidimensionalen Raum geplottet\n",
    "X_tr, Y_tr, X_te, Y_te = get_dataset(\"CIFAR10\")\n",
    "rng = np.random.RandomState(0)\n",
    "colors = rng.rand(10)\n",
    "colors\n",
    "len(Y_tr)"
   ]
  },
  {
   "cell_type": "code",
   "execution_count": 2,
   "metadata": {
    "pycharm": {
     "name": "#%%\n"
    }
   },
   "outputs": [
    {
     "data": {
      "text/plain": [
       "tensor([6, 9, 9,  ..., 9, 1, 1])"
      ]
     },
     "execution_count": 2,
     "metadata": {},
     "output_type": "execute_result"
    }
   ],
   "source": [
    "Y_tr"
   ]
  },
  {
   "cell_type": "code",
   "execution_count": 21,
   "metadata": {
    "pycharm": {
     "name": "#%%\n"
    }
   },
   "outputs": [
    {
     "data": {
      "text/html": [
       "<div>\n",
       "<style scoped>\n",
       "    .dataframe tbody tr th:only-of-type {\n",
       "        vertical-align: middle;\n",
       "    }\n",
       "\n",
       "    .dataframe tbody tr th {\n",
       "        vertical-align: top;\n",
       "    }\n",
       "\n",
       "    .dataframe thead th {\n",
       "        text-align: right;\n",
       "    }\n",
       "</style>\n",
       "<table border=\"1\" class=\"dataframe\">\n",
       "  <thead>\n",
       "    <tr style=\"text-align: right;\">\n",
       "      <th></th>\n",
       "      <th>Unnamed: 0</th>\n",
       "      <th>idx</th>\n",
       "      <th>centroid</th>\n",
       "    </tr>\n",
       "  </thead>\n",
       "  <tbody>\n",
       "    <tr>\n",
       "      <th>0</th>\n",
       "      <td>0</td>\n",
       "      <td>17211</td>\n",
       "      <td>8</td>\n",
       "    </tr>\n",
       "    <tr>\n",
       "      <th>1</th>\n",
       "      <td>1</td>\n",
       "      <td>95</td>\n",
       "      <td>2</td>\n",
       "    </tr>\n",
       "    <tr>\n",
       "      <th>2</th>\n",
       "      <td>2</td>\n",
       "      <td>7426</td>\n",
       "      <td>8</td>\n",
       "    </tr>\n",
       "    <tr>\n",
       "      <th>3</th>\n",
       "      <td>3</td>\n",
       "      <td>38450</td>\n",
       "      <td>1</td>\n",
       "    </tr>\n",
       "    <tr>\n",
       "      <th>4</th>\n",
       "      <td>4</td>\n",
       "      <td>44266</td>\n",
       "      <td>8</td>\n",
       "    </tr>\n",
       "    <tr>\n",
       "      <th>...</th>\n",
       "      <td>...</td>\n",
       "      <td>...</td>\n",
       "      <td>...</td>\n",
       "    </tr>\n",
       "    <tr>\n",
       "      <th>9995</th>\n",
       "      <td>9995</td>\n",
       "      <td>47440</td>\n",
       "      <td>8</td>\n",
       "    </tr>\n",
       "    <tr>\n",
       "      <th>9996</th>\n",
       "      <td>9996</td>\n",
       "      <td>478</td>\n",
       "      <td>8</td>\n",
       "    </tr>\n",
       "    <tr>\n",
       "      <th>9997</th>\n",
       "      <td>9997</td>\n",
       "      <td>30516</td>\n",
       "      <td>3</td>\n",
       "    </tr>\n",
       "    <tr>\n",
       "      <th>9998</th>\n",
       "      <td>9998</td>\n",
       "      <td>20009</td>\n",
       "      <td>8</td>\n",
       "    </tr>\n",
       "    <tr>\n",
       "      <th>9999</th>\n",
       "      <td>9999</td>\n",
       "      <td>643</td>\n",
       "      <td>4</td>\n",
       "    </tr>\n",
       "  </tbody>\n",
       "</table>\n",
       "<p>10000 rows × 3 columns</p>\n",
       "</div>"
      ],
      "text/plain": [
       "      Unnamed: 0    idx  centroid\n",
       "0              0  17211         8\n",
       "1              1     95         2\n",
       "2              2   7426         8\n",
       "3              3  38450         1\n",
       "4              4  44266         8\n",
       "...          ...    ...       ...\n",
       "9995        9995  47440         8\n",
       "9996        9996    478         8\n",
       "9997        9997  30516         3\n",
       "9998        9998  20009         8\n",
       "9999        9999    643         4\n",
       "\n",
       "[10000 rows x 3 columns]"
      ]
     },
     "execution_count": 21,
     "metadata": {},
     "output_type": "execute_result"
    }
   ],
   "source": [
    "path = 'bp_prop_clustersize/fcb53f24c6674a61bc6f21b1f5ced903'\n",
    "# S: das sind die die selektiert wurden, die müssen gehighlighted werden\n",
    "sampled_data = pd.read_csv(\"/Users/ilijanaspasojevic/PycharmProjects/dmbal/src/remote_files/\" +  path + \"/2_statistics.csv\")\n",
    "sampled_data\n",
    "budget_data = pd.read_csv(\"/Users/ilijanaspasojevic/PycharmProjects/dmbal/src/remote_files/\" + path + \"/2_budget.csv\")\n",
    "budget_data"
   ]
  },
  {
   "cell_type": "code",
   "execution_count": 22,
   "metadata": {
    "pycharm": {
     "name": "#%%\n"
    }
   },
   "outputs": [],
   "source": [
    "def label_scatter(data_points, sampled, labels):\n",
    "    # choose a color palette with seaborn.\n",
    "    num_classes = len(np.unique(labels))\n",
    "    print(num_classes)\n",
    "    palette = np.array(sns.color_palette(\"hls\", num_classes))\n",
    "    print(palette)\n",
    "\n",
    "    # create a scatter plot.\n",
    "    f = plt.figure(figsize=(8, 8))\n",
    "    ax = plt.subplot(aspect='equal')\n",
    "    #c=palette[labels.astype(np.int)\n",
    "    weights_datapoints = np.arange(1, 11)\n",
    "    weights_sampled = np.arange(1, len(sampled)+1)\n",
    "    #c=label, cmap=matplotlib.colors.ListedColormap(colors)\n",
    "    sc_data_points = ax.scatter(data_points[:,0], data_points[:,1], lw=0, s=40, c=labels, cmap='Greys')\n",
    "    sc_sampled = ax.scatter(sampled[:,0], sampled[:,1], lw=0, s=40, c='red')\n",
    "    plt.xlim(-25, 25)\n",
    "    plt.ylim(-25, 25)\n",
    "    ax.axis('off')\n",
    "    ax.axis('tight')\n",
    "\n",
    "    # add the labels for each digit corresponding to the label\n",
    "    txts = []\n",
    "\n",
    "#    for i in range(num_classes):\n",
    "\n",
    "        # Position of each label at median of data points.\n",
    "\n",
    "#        xtext, ytext = np.median(x[labels == i, :], axis=0)\n",
    "#        txt = ax.text(xtext, ytext, str(i), fontsize=24)\n",
    "#        txt.set_path_effects([\n",
    "#            PathEffects.Stroke(linewidth=5, foreground=\"w\"),\n",
    "#            PathEffects.Normal()])\n",
    "#        txts.append(txt)\n",
    "\n",
    "    #return f, ax, sc_data_points, sc_sampled, txts\n"
   ]
  },
  {
   "cell_type": "code",
   "execution_count": 23,
   "metadata": {
    "pycharm": {
     "name": "#%%\n"
    }
   },
   "outputs": [
    {
     "name": "stdout",
     "output_type": "stream",
     "text": [
      "[[101 109 131 ... 150 140 138]\n",
      " [246 254 119 ... 243 231 150]\n",
      " [134 138 121 ...  98 122 106]\n",
      " ...\n",
      " [ 94 101 114 ... 115 113 118]\n",
      " [198 194 189 ...  26  26  26]\n",
      " [255 252 255 ... 145 137 148]]\n"
     ]
    }
   ],
   "source": [
    "#from sklearn.decomposition import PCA\n",
    "from sklearn.manifold import TSNE\n",
    "\n",
    "time_start = time.time()\n",
    "\n",
    "#pca = PCA()\n",
    "# S: hier vermutlich:\n",
    "budget_tr = X_tr[budget_data['idx']]\n",
    "x = budget_tr.reshape(budget_tr.shape[0], -1)\n",
    "print(x)"
   ]
  },
  {
   "cell_type": "code",
   "execution_count": 24,
   "metadata": {
    "pycharm": {
     "name": "#%%\n"
    }
   },
   "outputs": [
    {
     "data": {
      "text/plain": [
       "array([[[[180, 169, 135],\n",
       "         [185, 174, 142],\n",
       "         [193, 183, 155],\n",
       "         ...,\n",
       "         [200, 192, 164],\n",
       "         [199, 191, 164],\n",
       "         [199, 191, 166]],\n",
       "\n",
       "        [[199, 198, 164],\n",
       "         [210, 208, 176],\n",
       "         [209, 206, 175],\n",
       "         ...,\n",
       "         [214, 210, 176],\n",
       "         [214, 210, 178],\n",
       "         [218, 213, 183]],\n",
       "\n",
       "        [[194, 195, 164],\n",
       "         [195, 195, 164],\n",
       "         [202, 199, 168],\n",
       "         ...,\n",
       "         [208, 206, 174],\n",
       "         [213, 211, 180],\n",
       "         [219, 217, 188]],\n",
       "\n",
       "        ...,\n",
       "\n",
       "        [[213, 198, 169],\n",
       "         [211, 198, 168],\n",
       "         [206, 194, 164],\n",
       "         ...,\n",
       "         [173, 176, 149],\n",
       "         [178, 182, 155],\n",
       "         [169, 175, 147]],\n",
       "\n",
       "        [[178, 163, 138],\n",
       "         [182, 168, 143],\n",
       "         [192, 180, 154],\n",
       "         ...,\n",
       "         [199, 193, 165],\n",
       "         [205, 200, 172],\n",
       "         [198, 194, 166]],\n",
       "\n",
       "        [[207, 194, 173],\n",
       "         [213, 201, 180],\n",
       "         [199, 190, 168],\n",
       "         ...,\n",
       "         [222, 210, 188],\n",
       "         [216, 204, 182],\n",
       "         [211, 202, 179]]],\n",
       "\n",
       "\n",
       "       [[[237, 237, 237],\n",
       "         [234, 234, 234],\n",
       "         [234, 234, 234],\n",
       "         ...,\n",
       "         [234, 234, 234],\n",
       "         [234, 234, 234],\n",
       "         [234, 234, 234]],\n",
       "\n",
       "        [[233, 233, 233],\n",
       "         [230, 230, 230],\n",
       "         [229, 229, 229],\n",
       "         ...,\n",
       "         [230, 230, 230],\n",
       "         [230, 230, 230],\n",
       "         [230, 230, 230]],\n",
       "\n",
       "        [[234, 234, 234],\n",
       "         [229, 230, 229],\n",
       "         [232, 232, 232],\n",
       "         ...,\n",
       "         [231, 231, 231],\n",
       "         [231, 231, 231],\n",
       "         [231, 231, 231]],\n",
       "\n",
       "        ...,\n",
       "\n",
       "        [[234, 234, 234],\n",
       "         [231, 231, 231],\n",
       "         [231, 231, 231],\n",
       "         ...,\n",
       "         [ 47,  49,  48],\n",
       "         [131, 133, 132],\n",
       "         [223, 223, 223]],\n",
       "\n",
       "        [[234, 234, 234],\n",
       "         [231, 231, 231],\n",
       "         [231, 231, 231],\n",
       "         ...,\n",
       "         [213, 214, 214],\n",
       "         [233, 234, 233],\n",
       "         [231, 231, 231]],\n",
       "\n",
       "        [[234, 234, 234],\n",
       "         [231, 231, 231],\n",
       "         [231, 231, 231],\n",
       "         ...,\n",
       "         [232, 232, 232],\n",
       "         [229, 229, 229],\n",
       "         [230, 230, 230]]],\n",
       "\n",
       "\n",
       "       [[[120, 127, 128],\n",
       "         [150, 150, 144],\n",
       "         [175, 173, 165],\n",
       "         ...,\n",
       "         [129, 135, 136],\n",
       "         [142, 152, 155],\n",
       "         [123, 134, 134]],\n",
       "\n",
       "        [[128, 132, 129],\n",
       "         [138, 136, 126],\n",
       "         [162, 158, 146],\n",
       "         ...,\n",
       "         [126, 130, 130],\n",
       "         [148, 154, 158],\n",
       "         [139, 145, 145]],\n",
       "\n",
       "        [[142, 143, 143],\n",
       "         [162, 159, 151],\n",
       "         [167, 163, 152],\n",
       "         ...,\n",
       "         [130, 140, 142],\n",
       "         [150, 160, 165],\n",
       "         [144, 155, 157]],\n",
       "\n",
       "        ...,\n",
       "\n",
       "        [[141, 141, 139],\n",
       "         [147, 147, 143],\n",
       "         [151, 148, 144],\n",
       "         ...,\n",
       "         [101, 105,  99],\n",
       "         [118, 123, 116],\n",
       "         [107, 115, 111]],\n",
       "\n",
       "        [[172, 172, 167],\n",
       "         [173, 173, 167],\n",
       "         [175, 173, 166],\n",
       "         ...,\n",
       "         [ 84,  87,  82],\n",
       "         [108, 113, 108],\n",
       "         [ 96, 103, 101]],\n",
       "\n",
       "        [[148, 149, 143],\n",
       "         [149, 150, 142],\n",
       "         [152, 150, 141],\n",
       "         ...,\n",
       "         [ 62,  65,  63],\n",
       "         [ 92,  96,  94],\n",
       "         [ 87,  95,  96]]],\n",
       "\n",
       "\n",
       "       ...,\n",
       "\n",
       "\n",
       "       [[[ 10,   6,  16],\n",
       "         [  9,   5,  16],\n",
       "         [  9,   5,  16],\n",
       "         ...,\n",
       "         [214, 204, 189],\n",
       "         [221, 212, 199],\n",
       "         [212, 204, 191]],\n",
       "\n",
       "        [[  9,   6,  17],\n",
       "         [  8,   6,  17],\n",
       "         [  7,   6,  17],\n",
       "         ...,\n",
       "         [215, 207, 195],\n",
       "         [223, 216, 204],\n",
       "         [214, 207, 195]],\n",
       "\n",
       "        [[  9,   6,  18],\n",
       "         [  9,   7,  21],\n",
       "         [  7,   7,  18],\n",
       "         ...,\n",
       "         [224, 217, 206],\n",
       "         [222, 216, 205],\n",
       "         [221, 214, 202]],\n",
       "\n",
       "        ...,\n",
       "\n",
       "        [[ 85,  69,  52],\n",
       "         [ 89,  73,  54],\n",
       "         [ 93,  76,  55],\n",
       "         ...,\n",
       "         [210, 199, 185],\n",
       "         [238, 229, 215],\n",
       "         [239, 234, 223]],\n",
       "\n",
       "        [[ 81,  65,  48],\n",
       "         [ 85,  70,  50],\n",
       "         [ 89,  72,  52],\n",
       "         ...,\n",
       "         [238, 230, 217],\n",
       "         [232, 226, 214],\n",
       "         [237, 231, 223]],\n",
       "\n",
       "        [[ 79,  63,  46],\n",
       "         [ 88,  72,  53],\n",
       "         [ 88,  71,  51],\n",
       "         ...,\n",
       "         [233, 226, 213],\n",
       "         [238, 234, 223],\n",
       "         [236, 232, 222]]],\n",
       "\n",
       "\n",
       "       [[[189, 197, 224],\n",
       "         [192, 199, 228],\n",
       "         [177, 190, 209],\n",
       "         ...,\n",
       "         [123, 126, 152],\n",
       "         [ 76,  80,  76],\n",
       "         [119, 122, 132]],\n",
       "\n",
       "        [[186, 197, 213],\n",
       "         [190, 195, 220],\n",
       "         [186, 194, 214],\n",
       "         ...,\n",
       "         [120, 123, 146],\n",
       "         [ 74,  78,  69],\n",
       "         [104, 108, 114]],\n",
       "\n",
       "        [[188, 200, 208],\n",
       "         [194, 198, 219],\n",
       "         [191, 195, 216],\n",
       "         ...,\n",
       "         [104, 107, 129],\n",
       "         [ 67,  72,  57],\n",
       "         [ 90,  94,  97]],\n",
       "\n",
       "        ...,\n",
       "\n",
       "        [[134, 206, 147],\n",
       "         [132, 203, 137],\n",
       "         [132, 206, 129],\n",
       "         ...,\n",
       "         [196, 220, 199],\n",
       "         [222, 241, 227],\n",
       "         [243, 255, 252]],\n",
       "\n",
       "        [[138, 214, 162],\n",
       "         [136, 212, 154],\n",
       "         [133, 210, 147],\n",
       "         ...,\n",
       "         [238, 247, 244],\n",
       "         [247, 253, 252],\n",
       "         [255, 255, 255]],\n",
       "\n",
       "        [[141, 219, 170],\n",
       "         [130, 208, 150],\n",
       "         [121, 200, 139],\n",
       "         ...,\n",
       "         [252, 251, 253],\n",
       "         [251, 251, 251],\n",
       "         [255, 255, 255]]],\n",
       "\n",
       "\n",
       "       [[[ 51,  69,  75],\n",
       "         [ 52,  69,  77],\n",
       "         [ 54,  71,  80],\n",
       "         ...,\n",
       "         [ 50,  67,  75],\n",
       "         [ 50,  67,  75],\n",
       "         [ 48,  65,  74]],\n",
       "\n",
       "        [[ 50,  68,  73],\n",
       "         [ 51,  68,  76],\n",
       "         [ 53,  70,  79],\n",
       "         ...,\n",
       "         [ 49,  66,  74],\n",
       "         [ 49,  66,  74],\n",
       "         [ 47,  64,  72]],\n",
       "\n",
       "        [[ 51,  69,  74],\n",
       "         [ 52,  69,  76],\n",
       "         [ 52,  69,  78],\n",
       "         ...,\n",
       "         [ 51,  68,  76],\n",
       "         [ 50,  67,  75],\n",
       "         [ 49,  66,  74]],\n",
       "\n",
       "        ...,\n",
       "\n",
       "        [[ 50,  64,  72],\n",
       "         [ 53,  66,  74],\n",
       "         [ 57,  68,  78],\n",
       "         ...,\n",
       "         [122, 111,  91],\n",
       "         [ 86,  84,  72],\n",
       "         [ 62,  65,  62]],\n",
       "\n",
       "        [[ 75,  87,  94],\n",
       "         [ 73,  83,  90],\n",
       "         [ 76,  83,  89],\n",
       "         ...,\n",
       "         [ 94,  93,  83],\n",
       "         [ 74,  77,  72],\n",
       "         [ 60,  69,  69]],\n",
       "\n",
       "        [[ 91, 101, 108],\n",
       "         [ 98, 105, 114],\n",
       "         [ 90,  98, 106],\n",
       "         ...,\n",
       "         [ 82,  86,  84],\n",
       "         [ 67,  75,  77],\n",
       "         [ 55,  69,  74]]]], dtype=uint8)"
      ]
     },
     "execution_count": 24,
     "metadata": {},
     "output_type": "execute_result"
    }
   ],
   "source": [
    "X_tr[sampled_data['img_id']]"
   ]
  },
  {
   "cell_type": "code",
   "execution_count": 25,
   "metadata": {
    "pycharm": {
     "name": "#%%\n"
    }
   },
   "outputs": [
    {
     "name": "stdout",
     "output_type": "stream",
     "text": [
      "10000\n"
     ]
    }
   ],
   "source": [
    "print(len(x))"
   ]
  },
  {
   "cell_type": "code",
   "execution_count": 26,
   "metadata": {
    "pycharm": {
     "name": "#%%\n"
    }
   },
   "outputs": [],
   "source": [
    "#sampled_data['img_id']\n",
    "Sampled = X_tr[sampled_data['img_id']]\n",
    "sampled = Sampled.reshape(Sampled.shape[0], -1)"
   ]
  },
  {
   "cell_type": "code",
   "execution_count": 27,
   "metadata": {
    "pycharm": {
     "name": "#%%\n"
    }
   },
   "outputs": [
    {
     "name": "stdout",
     "output_type": "stream",
     "text": [
      "[[-24.711706   -8.04276  ]\n",
      " [ 10.538679    7.8123116]\n",
      " [  2.266598    7.9441586]\n",
      " ...\n",
      " [-31.95651    -2.5964983]\n",
      " [-33.759457  -25.535217 ]\n",
      " [ 45.977375   -0.936213 ]]\n"
     ]
    }
   ],
   "source": [
    "#pca_result_data_points = pca.fit_transform(x)\n",
    "#pca_result_sampled = pca.fit_transform(sampled_data)\n",
    "tsne_budget = TSNE(random_state=10).fit_transform(x)\n",
    "print(tsne_budget)"
   ]
  },
  {
   "cell_type": "code",
   "execution_count": null,
   "metadata": {
    "pycharm": {
     "name": "#%%\n"
    }
   },
   "outputs": [],
   "source": [
    "#pca_result_sampled = pca.fit_transform(sampled)\n",
    "tsne_sampled = TSNE(random_state=10).fit_transform(sampled)"
   ]
  },
  {
   "cell_type": "code",
   "execution_count": null,
   "metadata": {},
   "outputs": [],
   "source": [
    "budget_data['centroid']"
   ]
  },
  {
   "cell_type": "code",
   "execution_count": null,
   "metadata": {
    "pycharm": {
     "name": "#%%\n"
    }
   },
   "outputs": [],
   "source": [
    "label_scatter(top_two_comp.values, top_two_comp_sampled.values, budget_data['centroid'])"
   ]
  }
 ],
 "metadata": {
  "kernelspec": {
   "display_name": "Python 3",
   "language": "python",
   "name": "python3"
  },
  "language_info": {
   "codemirror_mode": {
    "name": "ipython",
    "version": 3
   },
   "file_extension": ".py",
   "mimetype": "text/x-python",
   "name": "python",
   "nbconvert_exporter": "python",
   "pygments_lexer": "ipython3",
   "version": "3.8.0"
  }
 },
 "nbformat": 4,
 "nbformat_minor": 1
}
