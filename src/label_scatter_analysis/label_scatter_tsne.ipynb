{
 "cells": [
  {
   "cell_type": "code",
   "execution_count": 7,
   "metadata": {
    "pycharm": {
     "name": "#%%\n"
    }
   },
   "outputs": [
    {
     "name": "stdout",
     "output_type": "stream",
     "text": [
      "Files already downloaded and verified\n",
      "Files already downloaded and verified\n"
     ]
    },
    {
     "data": {
      "text/plain": [
       "50000"
      ]
     },
     "execution_count": 7,
     "metadata": {},
     "output_type": "execute_result"
    }
   ],
   "source": [
    "import time\n",
    "import pandas as pd\n",
    "import numpy as np\n",
    "import matplotlib.pyplot as plt\n",
    "import matplotlib.patheffects as PathEffects\n",
    "import seaborn as sns\n",
    "from src.data.DataLoader import get_dataset\n",
    "\n",
    "# zuerst files die ich brauche temporär downloaden oder direkt laden mittels library, dann hat man es lokal\n",
    "#      und von dort aus richtigen Pfad nehmen\n",
    "# get out_dir (ist in den runs in out_dir eingespeichert)\n",
    "# dann files öffnen\n",
    "# in pd dataframes laden: pd.read_csv(out_dir + \"/file\")\n",
    "# dann mit plot aus tutorial anzeigen lassenfrom \n",
    "\n",
    "sns.set_style('darkgrid')\n",
    "sns.set_palette('muted')\n",
    "sns.set_context(\"notebook\", font_scale=1.5,\n",
    "                rc={\"lines.linewidth\": 2.5})\n",
    "#data_handler, d_args = get_handler_and_args(\"CIFAR10\")\n",
    "# S: Das sind die Roh-Daten, die (bzw. X_tr) müssen mit PCA oder Tsne transformiert werden. \n",
    "# Dann werden diese Daten im zweidimensionalen Raum geplottet \n",
    "X_tr, Y_tr, X_te, Y_te = get_dataset(\"CIFAR10\")\n",
    "rng = np.random.RandomState(0)\n",
    "colors = rng.rand(10)\n",
    "colors\n",
    "len(Y_tr)"
   ]
  },
  {
   "cell_type": "code",
   "execution_count": 8,
   "metadata": {
    "pycharm": {
     "name": "#%%\n"
    }
   },
   "outputs": [
    {
     "data": {
      "text/plain": [
       "tensor([6, 9, 9,  ..., 9, 1, 1])"
      ]
     },
     "execution_count": 8,
     "metadata": {},
     "output_type": "execute_result"
    }
   ],
   "source": [
    "Y_tr"
   ]
  },
  {
   "cell_type": "code",
   "execution_count": 9,
   "metadata": {
    "pycharm": {
     "name": "#%%\n"
    }
   },
   "outputs": [
    {
     "data": {
      "text/html": [
       "<div>\n",
       "<style scoped>\n",
       "    .dataframe tbody tr th:only-of-type {\n",
       "        vertical-align: middle;\n",
       "    }\n",
       "\n",
       "    .dataframe tbody tr th {\n",
       "        vertical-align: top;\n",
       "    }\n",
       "\n",
       "    .dataframe thead th {\n",
       "        text-align: right;\n",
       "    }\n",
       "</style>\n",
       "<table border=\"1\" class=\"dataframe\">\n",
       "  <thead>\n",
       "    <tr style=\"text-align: right;\">\n",
       "      <th></th>\n",
       "      <th>Unnamed: 0</th>\n",
       "      <th>img_id</th>\n",
       "    </tr>\n",
       "  </thead>\n",
       "  <tbody>\n",
       "    <tr>\n",
       "      <th>0</th>\n",
       "      <td>0</td>\n",
       "      <td>48099</td>\n",
       "    </tr>\n",
       "    <tr>\n",
       "      <th>1</th>\n",
       "      <td>1</td>\n",
       "      <td>23599</td>\n",
       "    </tr>\n",
       "    <tr>\n",
       "      <th>2</th>\n",
       "      <td>2</td>\n",
       "      <td>13399</td>\n",
       "    </tr>\n",
       "    <tr>\n",
       "      <th>3</th>\n",
       "      <td>3</td>\n",
       "      <td>39885</td>\n",
       "    </tr>\n",
       "    <tr>\n",
       "      <th>4</th>\n",
       "      <td>4</td>\n",
       "      <td>7780</td>\n",
       "    </tr>\n",
       "    <tr>\n",
       "      <th>...</th>\n",
       "      <td>...</td>\n",
       "      <td>...</td>\n",
       "    </tr>\n",
       "    <tr>\n",
       "      <th>995</th>\n",
       "      <td>995</td>\n",
       "      <td>43358</td>\n",
       "    </tr>\n",
       "    <tr>\n",
       "      <th>996</th>\n",
       "      <td>996</td>\n",
       "      <td>32881</td>\n",
       "    </tr>\n",
       "    <tr>\n",
       "      <th>997</th>\n",
       "      <td>997</td>\n",
       "      <td>44565</td>\n",
       "    </tr>\n",
       "    <tr>\n",
       "      <th>998</th>\n",
       "      <td>998</td>\n",
       "      <td>39923</td>\n",
       "    </tr>\n",
       "    <tr>\n",
       "      <th>999</th>\n",
       "      <td>999</td>\n",
       "      <td>19093</td>\n",
       "    </tr>\n",
       "  </tbody>\n",
       "</table>\n",
       "<p>1000 rows × 2 columns</p>\n",
       "</div>"
      ],
      "text/plain": [
       "     Unnamed: 0  img_id\n",
       "0             0   48099\n",
       "1             1   23599\n",
       "2             2   13399\n",
       "3             3   39885\n",
       "4             4    7780\n",
       "..          ...     ...\n",
       "995         995   43358\n",
       "996         996   32881\n",
       "997         997   44565\n",
       "998         998   39923\n",
       "999         999   19093\n",
       "\n",
       "[1000 rows x 2 columns]"
      ]
     },
     "execution_count": 9,
     "metadata": {},
     "output_type": "execute_result"
    }
   ],
   "source": [
    "path1 = 'bp_lmo/52cb83fe7df64b5baf369ee172b4194b'\n",
    "path2 = 'bp_lmo/cf55da05f9014799a7ea6c4c6f189e8b'\n",
    "path3 = 'bp_smo/9ab696d7bdad462e9fc2434c7c34eac6'\n",
    "# S: das sind die die selektiert wurden, die müssen gehighlighted werden\n",
    "sampled_data = pd.read_csv(\"/Users/ilijanaspasojevic/PycharmProjects/dmbal/src/remote_files/\" + path3 + \"/0_statistics.csv\")\n",
    "sampled_data"
   ]
  },
  {
   "cell_type": "code",
   "execution_count": 10,
   "metadata": {
    "pycharm": {
     "name": "#%%\n"
    }
   },
   "outputs": [],
   "source": [
    "def label_scatter(data_points, sampled, labels):\n",
    "    # choose a color palette with seaborn.\n",
    "    num_classes = len(np.unique(labels))\n",
    "    print(num_classes)\n",
    "    palette = np.array(sns.color_palette(\"hls\", num_classes))\n",
    "    print(palette)\n",
    "\n",
    "    # create a scatter plot.\n",
    "    f = plt.figure(figsize=(8, 8))\n",
    "    ax = plt.subplot(aspect='equal')\n",
    "    #c=palette[labels.astype(np.int)\n",
    "    weights_datapoints = np.arange(1, 11)\n",
    "    weights_sampled = np.arange(1, len(sampled)+1)\n",
    "    #c=label, cmap=matplotlib.colors.ListedColormap(colors)\n",
    "    sc_data_points = ax.scatter(data_points[:,0], data_points[:,1], lw=0, s=40, c=labels, cmap='Greys')\n",
    "    sc_sampled = ax.scatter(sampled[:,0], sampled[:,1], lw=0, s=40, c='red')\n",
    "    plt.xlim(-25, 25)\n",
    "    plt.ylim(-25, 25)\n",
    "    ax.axis('off')\n",
    "    ax.axis('tight')\n",
    "    txts = []\n"
   ]
  },
  {
   "cell_type": "code",
   "execution_count": 19,
   "metadata": {
    "pycharm": {
     "name": "#%%\n"
    }
   },
   "outputs": [
    {
     "name": "stdout",
     "output_type": "stream",
     "text": [
      "[[ 59  62  63 ... 123  92  72]\n",
      " [154 177 187 ... 143 133 144]\n",
      " [255 255 255 ...  80  86  84]\n",
      " ...\n",
      " [ 35 178 235 ...  12  31  50]\n",
      " [189 211 240 ... 195 190 171]\n",
      " [229 229 239 ... 163 163 161]]\n"
     ]
    }
   ],
   "source": [
    "#from sklearn.decomposition import PCA\n",
    "from sklearn.manifold import TSNE\n",
    "\n",
    "time_start = time.time()\n",
    "\n",
    "# S: hier vermutlich:\n",
    "x = X_tr.reshape(X_tr.shape[0], -1)\n",
    "print(x)"
   ]
  },
  {
   "cell_type": "code",
   "execution_count": 20,
   "metadata": {
    "pycharm": {
     "name": "#%%\n"
    }
   },
   "outputs": [
    {
     "name": "stdout",
     "output_type": "stream",
     "text": [
      "50000\n"
     ]
    }
   ],
   "source": [
    "print(len(x))"
   ]
  },
  {
   "cell_type": "code",
   "execution_count": 21,
   "metadata": {
    "pycharm": {
     "name": "#%%\n"
    }
   },
   "outputs": [
    {
     "data": {
      "text/plain": [
       "array([[101, 160, 211, ...,  22,  20,  22],\n",
       "       [252, 253, 255, ..., 155, 158, 110],\n",
       "       [ 95, 126, 175, ..., 118, 112,  87],\n",
       "       ...,\n",
       "       [168, 131,  97, ..., 157, 123,  75],\n",
       "       [155, 176, 120, ...,  79, 120,  59],\n",
       "       [209, 208, 191, ..., 145, 141,  99]], dtype=uint8)"
      ]
     },
     "execution_count": 21,
     "metadata": {},
     "output_type": "execute_result"
    }
   ],
   "source": [
    "#sampled_data['img_id']\n",
    "Sampled = X_tr[sampled_data['img_id']]\n",
    "sampled = Sampled.reshape(Sampled.shape[0], -1)\n",
    "sampled"
   ]
  },
  {
   "cell_type": "code",
   "execution_count": null,
   "metadata": {
    "pycharm": {
     "name": "#%%\n"
    }
   },
   "outputs": [],
   "source": [
    "#pca_result_data_points = pca.fit_transform(x) \n",
    "tsne_X_tr = TSNE(random_state=10).fit_transform(x)\n",
    "print(tsne_X_tr)"
   ]
  },
  {
   "cell_type": "code",
   "execution_count": 18,
   "metadata": {
    "pycharm": {
     "name": "#%%\n"
    }
   },
   "outputs": [
    {
     "data": {
      "text/plain": [
       "array([[ 15.969514  ,   6.43574   ],\n",
       "       [ -1.2665759 ,   0.8130914 ],\n",
       "       [ -3.3558435 ,   6.6427326 ],\n",
       "       ...,\n",
       "       [  0.11111231,  -6.673801  ],\n",
       "       [-19.599854  ,  -1.3017479 ],\n",
       "       [ -5.9116535 , -11.870515  ]], dtype=float32)"
      ]
     },
     "execution_count": 18,
     "metadata": {},
     "output_type": "execute_result"
    }
   ],
   "source": [
    "#pca_result_sampled = pca.fit_transform(sampled)\n",
    "tsne_sampled = TSNE(random_state=10).fit_transform(sampled)\n",
    "tsne_sampled"
   ]
  },
  {
   "cell_type": "code",
   "execution_count": null,
   "metadata": {
    "pycharm": {
     "name": "#%%\n"
    }
   },
   "outputs": [],
   "source": [
    "#pca_df = pd.DataFrame(columns = ['pca1','pca2','pca3','pca4'])\n",
    "\n",
    "#pca_df['pca1'] = pca_result_data_points[:,0]\n",
    "#pca_df['pca2'] = pca_result_data_points[:,1]\n",
    "#top_two_comp = pca_df[['pca1','pca2']]\n",
    "#print(top_two_comp)"
   ]
  },
  {
   "cell_type": "code",
   "execution_count": null,
   "metadata": {
    "pycharm": {
     "name": "#%%\n"
    }
   },
   "outputs": [],
   "source": [
    "#pca_df_sampled = pd.DataFrame(columns = ['pca1','pca2','pca3','pca4'])\n",
    "\n",
    "#pca_df_sampled['pca1'] = pca_result_sampled[:,0]\n",
    "#pca_df_sampled['pca2'] = pca_result_sampled[:,1]\n",
    "#top_two_comp_sampled = pca_df_sampled[['pca1','pca2']]\n",
    "#print(top_two_comp_sampled)"
   ]
  },
  {
   "cell_type": "code",
   "execution_count": null,
   "metadata": {
    "pycharm": {
     "name": "#%%\n"
    }
   },
   "outputs": [],
   "source": [
    "label_scatter(tsne_X_tr, tsne_sampled, Y_tr)"
   ]
  },
  {
   "cell_type": "code",
   "execution_count": null,
   "metadata": {
    "collapsed": true
   },
   "outputs": [],
   "source": []
  }
 ],
 "metadata": {
  "kernelspec": {
   "display_name": "Python 3",
   "language": "python",
   "name": "python3"
  },
  "language_info": {
   "codemirror_mode": {
    "name": "ipython",
    "version": 3
   },
   "file_extension": ".py",
   "mimetype": "text/x-python",
   "name": "python",
   "nbconvert_exporter": "python",
   "pygments_lexer": "ipython3",
   "version": "3.8.0"
  }
 },
 "nbformat": 4,
 "nbformat_minor": 1
}