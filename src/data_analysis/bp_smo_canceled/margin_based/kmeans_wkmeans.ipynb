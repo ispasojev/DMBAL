{
 "cells": [
  {
   "cell_type": "code",
   "execution_count": 8,
   "metadata": {},
   "outputs": [],
   "source": [
    "%matplotlib inline\n",
    "\n",
    "import sys\n",
    "sys.path.append('../')"
   ]
  },
  {
   "cell_type": "code",
   "execution_count": 9,
   "metadata": {
    "pycharm": {
     "name": "#%%\n"
    }
   },
   "outputs": [
    {
     "name": "stdout",
     "output_type": "stream",
     "text": [
      "10\n"
     ]
    }
   ],
   "source": [
    "from matplotlib import pyplot as plt\n",
    "from src.data_analysis.analysis_helpers import get_run_ids, get_labeledSamples_avgAcc, get_out_dirs\n",
    "%matplotlib inline\n",
    "# %pylab\n",
    "\n",
    "import sys\n",
    "import glob\n",
    "sys.path.append('../')\n",
    "\n",
    "from mlflow.tracking import MlflowClient\n",
    "from src.database.mlflow import MLFlowClient\n",
    "db = MLFlowClient(tracking_uri=\"http://mlflow.dbs.ifi.lmu.de:5000/\", experiment_name=\"DMBAL\")\n",
    "tracking = MlflowClient()\n",
    "\n",
    "runs_kmeans = db.get_entries(['params.diversity_strategy', \"params.uncertainty\", \"params.clustering\", \"params.number_clusters\",\"params.max_epochs\", \"params.learning_rate\", \"params.optimizer\"],[True, True, True, True, True, True, True],[\"bp_smo_canceled\", \"margin\", \"kmeans\",10, 30, 0.01, \"Adam\"])\n",
    "print(len(runs_kmeans))\n",
    "run_ids_kmeans = get_run_ids(runs_kmeans)"
   ]
  },
  {
   "cell_type": "code",
   "execution_count": 10,
   "metadata": {
    "pycharm": {
     "name": "#%%\n"
    }
   },
   "outputs": [
    {
     "name": "stdout",
     "output_type": "stream",
     "text": [
      "10\n"
     ]
    }
   ],
   "source": [
    "runs_wkmeans = db.get_entries(['params.diversity_strategy', \"params.uncertainty\", \"params.clustering\", \"params.max_epochs\", \"params.learning_rate\", \"params.number_clusters\"],[True, True, True, True, True, True],[\"bp_smo_canceled\", \"margin\", \"w_kmeans\", 30, 0.01, 10])\n",
    "print(len(runs_wkmeans))\n",
    "run_ids_wkmeans = get_run_ids(runs_wkmeans)"
   ]
  },
  {
   "cell_type": "code",
   "execution_count": 11,
   "metadata": {
    "pycharm": {
     "name": "#%%\n"
    }
   },
   "outputs": [],
   "source": [
    "samples_labeled_kmeans, avg_accs_kmeans = get_labeledSamples_avgAcc(run_ids_kmeans, tracking)\n",
    "samples_labeled_wkmeans, avg_accs_wkmeans = get_labeledSamples_avgAcc(run_ids_wkmeans, tracking)"
   ]
  },
  {
   "cell_type": "code",
   "execution_count": 12,
   "metadata": {
    "pycharm": {
     "name": "#%%\n"
    }
   },
   "outputs": [
    {
     "data": {
      "image/png": "[encoded data removed]",
      "text/plain": [
       "<Figure size 432x288 with 1 Axes>"
      ]
     },
     "metadata": {
      "needs_background": "light"
     },
     "output_type": "display_data"
    }
   ],
   "source": [
    "# plot\n",
    "plt.plot(samples_labeled_kmeans, avg_accs_kmeans,color='magenta', label='kmeans', linewidth=2)\n",
    "plt.plot(samples_labeled_wkmeans, avg_accs_wkmeans,color='green', label='w_kmeans', linewidth=2)\n",
    "plt.legend()\n",
    "plt.xlabel('number of annotated samples')\n",
    "plt.ylabel('accuracy')\n",
    "plt.grid(b=True, color='lightgrey', linestyle='-', linewidth=1)\n",
    "plt.ylim([0.29, 0.58])\n",
    "\n",
    "plt.show()"
   ]
  },
  {
   "cell_type": "code",
   "execution_count": 13,
   "metadata": {
    "pycharm": {
     "name": "#%%\n"
    }
   },
   "outputs": [
    {
     "data": {
      "text/plain": [
       "array([0.30232, 0.33218, 0.37787, 0.41941, 0.47527, 0.49041, 0.50379,\n",
       "       0.52457, 0.54727, 0.55944])"
      ]
     },
     "execution_count": 13,
     "metadata": {},
     "output_type": "execute_result"
    }
   ],
   "source": [
    "avg_accs_kmeans"
   ]
  },
  {
   "cell_type": "code",
   "execution_count": 14,
   "metadata": {},
   "outputs": [
    {
     "data": {
      "text/plain": [
       "array([0.28926, 0.31661, 0.39005, 0.40483, 0.44475, 0.48791, 0.48515,\n",
       "       0.53225, 0.54995, 0.57108])"
      ]
     },
     "execution_count": 14,
     "metadata": {},
     "output_type": "execute_result"
    }
   ],
   "source": [
    "avg_accs_wkmeans"
   ]
  },
  {
   "cell_type": "code",
   "execution_count": 7,
   "metadata": {},
   "outputs": [],
   "source": []
  }
 ],
 "metadata": {
  "kernelspec": {
   "display_name": "Python 3",
   "language": "python",
   "name": "python3"
  },
  "language_info": {
   "codemirror_mode": {
    "name": "ipython",
    "version": 3
   },
   "file_extension": ".py",
   "mimetype": "text/x-python",
   "name": "python",
   "nbconvert_exporter": "python",
   "pygments_lexer": "ipython3",
   "version": "3.8.0"
  }
 },
 "nbformat": 4,
 "nbformat_minor": 1
}