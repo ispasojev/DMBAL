{
 "cells": [
  {
   "cell_type": "code",
   "execution_count": 10,
   "metadata": {},
   "outputs": [],
   "source": [
    "%matplotlib inline\n",
    "\n",
    "import sys\n",
    "sys.path.append('../')"
   ]
  },
  {
   "cell_type": "code",
   "execution_count": 11,
   "metadata": {
    "pycharm": {
     "name": "#%%\n"
    }
   },
   "outputs": [
    {
     "name": "stdout",
     "output_type": "stream",
     "text": [
      "10\n"
     ]
    }
   ],
   "source": [
    "from matplotlib import pyplot as plt\n",
    "from src.data_analysis.analysis_helpers import get_run_ids, get_labeledSamples_avgAcc, get_out_dirs\n",
    "%matplotlib inline\n",
    "# %pylab\n",
    "\n",
    "import sys\n",
    "import glob\n",
    "sys.path.append('../')\n",
    "\n",
    "from mlflow.tracking import MlflowClient\n",
    "from src.database.mlflow import MLFlowClient\n",
    "db = MLFlowClient(tracking_uri=\"http://mlflow.dbs.ifi.lmu.de:5000/\", experiment_name=\"DMBAL\")\n",
    "tracking = MlflowClient()\n",
    "\n",
    "runs_margin = db.get_entries(['params.diversity_strategy', \"params.uncertainty\", \"params.clustering\", \"params.number_clusters\",\"params.max_epochs\", \"params.learning_rate\", \"params.optimizer\"],[True, True, True, True, True, True, True],[\"bp_lmo_canceled\", \"margin\", \"w_kmeans\",10, 30, 0.01, \"Adam\"])\n",
    "print(len(runs_margin))\n",
    "run_ids_margin = get_run_ids(runs_margin)"
   ]
  },
  {
   "cell_type": "code",
   "execution_count": 12,
   "metadata": {
    "pycharm": {
     "name": "#%%\n"
    }
   },
   "outputs": [
    {
     "name": "stdout",
     "output_type": "stream",
     "text": [
      "10\n"
     ]
    }
   ],
   "source": [
    "runs_least = db.get_entries(['params.diversity_strategy', \"params.uncertainty\", \"params.clustering\", \"params.max_epochs\", \"params.learning_rate\", \"params.number_clusters\"],[True, True, True, True, True, True],[\"bp_lmo_canceled\", \"least_confident\", \"w_kmeans\", 30, 0.01, 10])\n",
    "print(len(runs_least))\n",
    "run_ids_least = get_run_ids(runs_least)"
   ]
  },
  {
   "cell_type": "code",
   "execution_count": 13,
   "metadata": {
    "pycharm": {
     "name": "#%%\n"
    }
   },
   "outputs": [
    {
     "name": "stdout",
     "output_type": "stream",
     "text": [
      "10\n"
     ]
    }
   ],
   "source": [
    "runs_entropy = db.get_entries(['params.diversity_strategy', \"params.uncertainty\", \"params.clustering\", \"params.max_epochs\", \"params.learning_rate\", \"params.number_clusters\"],[True, True, True, True, True, True],[\"bp_lmo_canceled\", \"entropy\", \"w_kmeans\", 30, 0.01, 10])\n",
    "print(len(runs_entropy))\n",
    "run_ids_entropy = get_run_ids(runs_entropy)"
   ]
  },
  {
   "cell_type": "code",
   "execution_count": 15,
   "metadata": {
    "pycharm": {
     "name": "#%%\n"
    }
   },
   "outputs": [],
   "source": [
    "samples_labeled_margin, avg_accs_margin = get_labeledSamples_avgAcc(run_ids_margin, tracking)\n",
    "samples_labeled_least, avg_accs_least = get_labeledSamples_avgAcc(run_ids_least, tracking)\n",
    "samples_labeled_entropy, avg_accs_entropy = get_labeledSamples_avgAcc(run_ids_entropy, tracking)"
   ]
  },
  {
   "cell_type": "code",
   "execution_count": 16,
   "metadata": {
    "pycharm": {
     "name": "#%%\n"
    }
   },
   "outputs": [
    {
     "data": {
      "image/png": "[encoded data removed]",
      "text/plain": [
       "<Figure size 432x288 with 1 Axes>"
      ]
     },
     "metadata": {
      "needs_background": "light"
     },
     "output_type": "display_data"
    }
   ],
   "source": [
    "# plot\n",
    "plt.plot(samples_labeled_margin, avg_accs_margin,color='magenta', label='margin-based', linewidth=2)\n",
    "plt.plot(samples_labeled_least, avg_accs_least,color='green', label='least confident', linewidth=2)\n",
    "plt.plot(samples_labeled_entropy, avg_accs_entropy,color='blue', label='entropy', linewidth=2)\n",
    "plt.legend()\n",
    "plt.xlabel('number of annotated samples')\n",
    "plt.ylabel('accuracy')\n",
    "plt.grid(b=True, color='lightgrey', linestyle='-', linewidth=1)\n",
    "plt.ylim([0.29, 0.58])\n",
    "\n",
    "plt.show()"
   ]
  },
  {
   "cell_type": "code",
   "execution_count": 17,
   "metadata": {
    "pycharm": {
     "name": "#%%\n"
    }
   },
   "outputs": [
    {
     "data": {
      "text/plain": [
       "array([0.29346, 0.32811, 0.40733, 0.41645, 0.47624, 0.50011, 0.51274,\n",
       "       0.54026, 0.55348, 0.56561])"
      ]
     },
     "execution_count": 17,
     "metadata": {},
     "output_type": "execute_result"
    }
   ],
   "source": [
    "avg_accs_margin"
   ]
  },
  {
   "cell_type": "code",
   "execution_count": 18,
   "metadata": {
    "pycharm": {
     "name": "#%%\n"
    }
   },
   "outputs": [
    {
     "data": {
      "text/plain": [
       "array([0.30091, 0.31174, 0.37237, 0.41831, 0.43871, 0.49318, 0.50356,\n",
       "       0.5401 , 0.52985, 0.55433])"
      ]
     },
     "execution_count": 18,
     "metadata": {},
     "output_type": "execute_result"
    }
   ],
   "source": [
    "avg_accs_least"
   ]
  },
  {
   "cell_type": "code",
   "execution_count": 19,
   "metadata": {
    "pycharm": {
     "name": "#%%\n"
    }
   },
   "outputs": [
    {
     "data": {
      "text/plain": [
       "array([0.30025, 0.32508, 0.35478, 0.39404, 0.46922, 0.47644, 0.51374,\n",
       "       0.53672, 0.54554, 0.55297])"
      ]
     },
     "execution_count": 19,
     "metadata": {},
     "output_type": "execute_result"
    }
   ],
   "source": [
    "avg_accs_entropy"
   ]
  },
  {
   "cell_type": "code",
   "execution_count": null,
   "metadata": {
    "pycharm": {
     "name": "#%%\n"
    }
   },
   "outputs": [],
   "source": []
  }
 ],
 "metadata": {
  "kernelspec": {
   "display_name": "Python 3",
   "language": "python",
   "name": "python3"
  },
  "language_info": {
   "codemirror_mode": {
    "name": "ipython",
    "version": 3
   },
   "file_extension": ".py",
   "mimetype": "text/x-python",
   "name": "python",
   "nbconvert_exporter": "python",
   "pygments_lexer": "ipython3",
   "version": "3.8.0"
  }
 },
 "nbformat": 4,
 "nbformat_minor": 1
}