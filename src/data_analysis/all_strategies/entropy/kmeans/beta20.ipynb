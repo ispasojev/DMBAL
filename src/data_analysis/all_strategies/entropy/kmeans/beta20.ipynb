{
 "cells": [
  {
   "cell_type": "code",
   "execution_count": 9,
   "metadata": {},
   "outputs": [],
   "source": [
    "import pandas as pd\n",
    "from mlflow.tracking import MlflowClient\n",
    "import numpy as np\n",
    "\n",
    "from matplotlib import pyplot as plt\n",
    "from src.data_analysis.analysis_helpers import get_run_ids, get_labeledSamples_avgAcc, get_out_dirs\n",
    "from src.database.mlflow import MLFlowClient\n",
    "from src.database.mlflow import MLFlowClient\n",
    "%matplotlib inline\n",
    "# %pylab\n",
    "\n",
    "import sys\n",
    "import glob\n",
    "sys.path.append('../')\n",
    "\n",
    "from mlflow.tracking import MlflowClient\n",
    "from src.database.mlflow import MLFlowClient\n",
    "db = MLFlowClient(tracking_uri=\"http://mlflow.dbs.ifi.lmu.de:5000/\", experiment_name=\"DMBAL\")\n",
    "tracking = MlflowClient()"
   ]
  },
  {
   "cell_type": "code",
   "execution_count": 10,
   "metadata": {},
   "outputs": [
    {
     "name": "stdout",
     "output_type": "stream",
     "text": [
      "5\n"
     ]
    }
   ],
   "source": [
    "runs_bp_smo = db.get_entries(['params.diversity_strategy', \"params.uncertainty\", \"params.clustering\", \"params.number_clusters\",\"params.max_epochs\", \"params.learning_rate\", \"params.optimizer\", \"params.beta\"],[True, True, True, True, True, True, True, True],[\"bp_smo_canceled\", \"entropy\", \"kmeans\",10, 30, 0.01, \"Adam\",20])\n",
    "print(len(runs_bp_smo))\n",
    "#all_run_ids_smo = get_run_ids(runs_bp_smo)\n",
    "run_ids_smo = get_run_ids(runs_bp_smo.head(5))\n",
    "#nochmal mit tail ausgeben und schauen, ob es einen großen Unterschied macht"
   ]
  },
  {
   "cell_type": "code",
   "execution_count": 11,
   "metadata": {
    "pycharm": {
     "name": "#%%\n"
    }
   },
   "outputs": [
    {
     "name": "stdout",
     "output_type": "stream",
     "text": [
      "5\n"
     ]
    },
    {
     "data": {
      "text/plain": [
       "0    49f2209a90af4b7b86432cc5dd1358b4\n",
       "1    4bade5fd6d7c4204b4874a0ddd6f2bf9\n",
       "2    6db72b3d672c484f937e5463e91642eb\n",
       "3    a4825e00e9b845059c72192543cbcce0\n",
       "4    a36acc13a644457a9bfb8c0ab4c0d767\n",
       "Name: run_id, dtype: object"
      ]
     },
     "execution_count": 11,
     "metadata": {},
     "output_type": "execute_result"
    }
   ],
   "source": [
    "runs_bp_lmo = db.get_entries(['params.diversity_strategy', \"params.uncertainty\", \"params.clustering\", \"params.max_epochs\", \"params.learning_rate\", \"params.beta\"],[True, True, True, True, True, True],[\"bp_lmo_canceled\", \"entropy\", \"kmeans\", 30, 0.01, 20])\n",
    "print(len(runs_bp_lmo))\n",
    "#run_ids_bp_lmo = get_run_ids(runs_bp_lmo)\n",
    "run_ids_bp_lmo = get_run_ids(runs_bp_lmo.head(5))\n",
    "run_ids_bp_lmo"
   ]
  },
  {
   "cell_type": "code",
   "execution_count": 12,
   "metadata": {},
   "outputs": [
    {
     "name": "stdout",
     "output_type": "stream",
     "text": [
      "5\n"
     ]
    },
    {
     "data": {
      "text/plain": [
       "0    84cb6a45278842739bc1ec8011139707\n",
       "1    8db45747c46d4b1ea932319ccb156e02\n",
       "2    57583b6ab60746699d7d24c038c56629\n",
       "3    dcb1daac557d423da3c1a4f0b5383fa7\n",
       "4    2723fc9b8a4640de807df757c2ddb7bd\n",
       "Name: run_id, dtype: object"
      ]
     },
     "execution_count": 12,
     "metadata": {},
     "output_type": "execute_result"
    }
   ],
   "source": [
    "runs_centroids = db.get_entries(['params.diversity_strategy', \"params.uncertainty\", \"params.clustering\", \"params.k\",\"params.max_epochs\", \"params.learning_rate\", \"params.optimizer\", \"params.beta\"],[True, True, True, True, True, True, True, True],[\"centroids\", \"entropy\", \"kmeans\",1000, 30, 0.01, \"Adam\", 20])\n",
    "print(len(runs_centroids))\n",
    "#run_ids_centroids = get_run_ids(runs_centroids)\n",
    "run_ids_centroids = get_run_ids(runs_centroids.head(5))\n",
    "run_ids_centroids"
   ]
  },
  {
   "cell_type": "code",
   "execution_count": 13,
   "metadata": {
    "pycharm": {
     "name": "#%%\n"
    }
   },
   "outputs": [
    {
     "name": "stdout",
     "output_type": "stream",
     "text": [
      "5\n"
     ]
    },
    {
     "data": {
      "text/plain": [
       "0    69eb70f657ab4334985fd3442b9bb215\n",
       "1    c35cd92dce764fb899cb43160a00b120\n",
       "2    003339de6db249c780da18c11bc39e01\n",
       "3    89c05e3018594d7ea566470bf6de075e\n",
       "4    b9699c362bf543fcb03ebb0aaffbf432\n",
       "Name: run_id, dtype: object"
      ]
     },
     "execution_count": 13,
     "metadata": {},
     "output_type": "execute_result"
    }
   ],
   "source": [
    "runs_bp_clusterwise = db.get_entries(['params.diversity_strategy', \"params.uncertainty\", \"params.clustering\", \"params.k\",\"params.max_epochs\", \"params.learning_rate\", \"params.number_clusters\", \"params.beta\"],[True, True, True, True, True, True, True, True],[\"bp_prop_clustersize\", \"entropy\", \"kmeans\",1000, 30, 0.01, 10, 20])\n",
    "print(len(runs_bp_clusterwise))\n",
    "#run_ids_bp_clusterwise = get_run_ids(runs_bp_clusterwise)\n",
    "run_ids_bp_clusterwise = get_run_ids(runs_bp_clusterwise.head(5))\n",
    "run_ids_bp_clusterwise"
   ]
  },
  {
   "cell_type": "code",
   "execution_count": 14,
   "metadata": {},
   "outputs": [
    {
     "name": "stdout",
     "output_type": "stream",
     "text": [
      "5\n"
     ]
    },
    {
     "data": {
      "text/plain": [
       "0    098a8257b78641c7bae8b1324abf9962\n",
       "1    0fabcbacf4104810b6123a192d3b057e\n",
       "2    bf3c83a24ecf42009addd063413a8f66\n",
       "3    e4222f0c300d4758b2efded99d950a1c\n",
       "4    264a3d43df62438db1cdd7789c1a7815\n",
       "Name: run_id, dtype: object"
      ]
     },
     "execution_count": 14,
     "metadata": {},
     "output_type": "execute_result"
    }
   ],
   "source": [
    "runs_boundary = db.get_entries(['params.diversity_strategy', \"params.uncertainty\", \"params.clustering\", \"params.k\", \"params.learning_rate\", \"params.max_epochs\", \"params.number_clusters\", \"params.beta\"],[True, True, True, True, True, True, True, True],[\"boundary_points\", \"entropy\", \"kmeans\",1000, 0.01, 30, 10, 20])\n",
    "print(len(runs_boundary))\n",
    "#run_ids_boundary = get_run_ids(runs_boundary)\n",
    "run_ids_boundary = get_run_ids(runs_boundary.head(5))\n",
    "run_ids_boundary"
   ]
  },
  {
   "cell_type": "code",
   "execution_count": 15,
   "metadata": {},
   "outputs": [
    {
     "name": "stdout",
     "output_type": "stream",
     "text": [
      "10\n"
     ]
    },
    {
     "data": {
      "text/plain": [
       "0    7f1e5628b6334cc3a9de37e61104358d\n",
       "1    421ff61556e5461f97a973fa111c3c63\n",
       "2    ae5681ec87874fbda5bd998ad8c13970\n",
       "3    1437f6a0f73a4039ad88d8c63b54f84c\n",
       "4    d2a0054c9b594e3cb78e9adb27ac6157\n",
       "Name: run_id, dtype: object"
      ]
     },
     "execution_count": 15,
     "metadata": {},
     "output_type": "execute_result"
    }
   ],
   "source": [
    "runs_random = db.get_entries(['params.diversity_strategy', \"params.learning_rate\", \"params.max_epochs\", \"params.sampling_size\"],[True, True, True, True],[\"random\", 0.01, 30, 1000])\n",
    "print(len(runs_random))\n",
    "#run_ids_random = get_run_ids(runs_random)\n",
    "run_ids_random = get_run_ids(runs_random.head(5))\n",
    "run_ids_random"
   ]
  },
  {
   "cell_type": "code",
   "execution_count": 16,
   "metadata": {},
   "outputs": [
    {
     "name": "stdout",
     "output_type": "stream",
     "text": [
      "5\n"
     ]
    },
    {
     "data": {
      "text/plain": [
       "0    31082858dd1543ad9c054dec1805778f\n",
       "1    e2581a9d77854a81af9ceac4d940432e\n",
       "2    f0fc1e35fd86407398284bc56fa4e3d7\n",
       "3    426af0e4cc9541dfb08eee7db167cc1c\n",
       "4    ef55d93133654a9a83595ee36c80a596\n",
       "Name: run_id, dtype: object"
      ]
     },
     "execution_count": 16,
     "metadata": {},
     "output_type": "execute_result"
    }
   ],
   "source": [
    "runs_random_uncertainty = db.get_entries(['params.diversity_strategy', \"params.learning_rate\", \"params.max_epochs\", \"params.sampling_size\", \"params.beta\", \"params.uncertainty\"],[True, True, True, True, True, True],[\"random_uncertainty\", 0.01, 30, 1000, 20, \"entropy\"])\n",
    "print(len(runs_random_uncertainty))\n",
    "#run_ids_random = get_run_ids(runs_random)\n",
    "run_ids_random_uncertainty = get_run_ids(runs_random_uncertainty.head(5))\n",
    "run_ids_random_uncertainty"
   ]
  },
  {
   "cell_type": "code",
   "execution_count": 17,
   "metadata": {},
   "outputs": [],
   "source": [
    "samples_labeled_bp_smo, avg_accs_bp_smo = get_labeledSamples_avgAcc(run_ids_smo, tracking)\n",
    "samples_labeled_bp_lmo, avg_accs_bp_lmo = get_labeledSamples_avgAcc(run_ids_bp_lmo, tracking)\n",
    "samples_labeled_centroids, avg_accs_centroids = get_labeledSamples_avgAcc(run_ids_centroids, tracking)\n",
    "samples_labeled_clusterwise, avg_accs_clusterwise = get_labeledSamples_avgAcc(run_ids_bp_clusterwise, tracking)\n",
    "samples_labeled_boundary, avg_accs_boundary = get_labeledSamples_avgAcc(run_ids_boundary, tracking)\n",
    "samples_labeled_random, avg_accs_random = get_labeledSamples_avgAcc(run_ids_random, tracking)\n",
    "samples_labeled_random_uncertain, avg_accs_random_uncertain = get_labeledSamples_avgAcc(run_ids_random_uncertainty, tracking)"
   ]
  },
  {
   "cell_type": "code",
   "execution_count": 18,
   "metadata": {
    "pycharm": {
     "name": "#%%\n"
    }
   },
   "outputs": [
    {
     "data": {
      "image/png": "[encoded data removed]",
      "text/plain": [
       "<Figure size 432x288 with 1 Axes>"
      ]
     },
     "metadata": {
      "needs_background": "light"
     },
     "output_type": "display_data"
    }
   ],
   "source": [
    "# plot\n",
    "plt.plot(samples_labeled_bp_smo, avg_accs_bp_smo,color='red', label='SMC', linewidth=2)\n",
    "plt.plot(samples_labeled_bp_lmo, avg_accs_bp_lmo,color='lightgreen', label='LMC', linewidth=2)\n",
    "plt.plot(samples_labeled_centroids, avg_accs_centroids,color='blue', label='centroids', linewidth=2)\n",
    "plt.plot(samples_labeled_clusterwise, avg_accs_clusterwise,color='magenta', label='WMC', linewidth=2)\n",
    "plt.plot(samples_labeled_boundary, avg_accs_boundary,color='black', label='SMP', linestyle='--',linewidth=2)\n",
    "plt.plot(samples_labeled_random, avg_accs_random,color='yellow', label='random',linewidth=2)\n",
    "plt.legend()\n",
    "plt.xlabel('number of annotated samples')\n",
    "plt.ylabel('accuracy')\n",
    "plt.grid(b=True, color='lightgrey', linestyle='-', linewidth=1)\n",
    "plt.ylim([0.29, 0.60])\n",
    "\n",
    "plt.show()"
   ]
  },
  {
   "cell_type": "code",
   "execution_count": 19,
   "metadata": {
    "pycharm": {
     "name": "#%%"
    }
   },
   "outputs": [
    {
     "data": {
      "image/png": "[encoded data removed]",
      "text/plain": [
       "<Figure size 432x288 with 1 Axes>"
      ]
     },
     "metadata": {
      "needs_background": "light"
     },
     "output_type": "display_data"
    }
   ],
   "source": [
    "plt.plot(samples_labeled_bp_smo, avg_accs_bp_smo,color='lightgreen', label='bp_smo_canceled', linewidth=2)\n",
    "plt.plot(samples_labeled_clusterwise, avg_accs_clusterwise,color='magenta', label='bp_prop_clustersize', linewidth=2)\n",
    "plt.plot(samples_labeled_boundary, avg_accs_boundary,color='black', label='boundary_points', linestyle='--',linewidth=2)\n",
    "plt.legend()\n",
    "plt.xlabel('number of annotated samples')\n",
    "plt.ylabel('accuracy')\n",
    "plt.grid(b=True, color='lightgrey', linestyle='-', linewidth=1)\n",
    "plt.ylim([0.29, 0.58])\n",
    "\n",
    "plt.show()"
   ]
  },
  {
   "cell_type": "code",
   "execution_count": 20,
   "metadata": {},
   "outputs": [
    {
     "name": "stdout",
     "output_type": "stream",
     "text": [
      "bp_smo: [0.2907  0.3552  0.3611  0.43178 0.40608 0.50242 0.52102 0.5301  0.5448\n",
      " 0.55234]\n",
      "bp_lmo: [0.29734 0.31094 0.3783  0.44946 0.44816 0.49312 0.50862 0.54188 0.5551\n",
      " 0.57732]\n"
     ]
    }
   ],
   "source": [
    "print(f'bp_smo: {avg_accs_bp_smo}')\n",
    "print(f'bp_lmo: {avg_accs_bp_lmo}')"
   ]
  },
  {
   "cell_type": "code",
   "execution_count": 21,
   "metadata": {
    "pycharm": {
     "name": "#%%\n"
    }
   },
   "outputs": [
    {
     "data": {
      "text/plain": [
       "array([0.27908, 0.33398, 0.38824, 0.40014, 0.4344 , 0.47286, 0.50586,\n",
       "       0.55832, 0.5192 , 0.5621 ])"
      ]
     },
     "execution_count": 21,
     "metadata": {},
     "output_type": "execute_result"
    }
   ],
   "source": [
    "avg_accs_centroids"
   ]
  },
  {
   "cell_type": "code",
   "execution_count": 22,
   "metadata": {},
   "outputs": [
    {
     "data": {
      "text/plain": [
       "array([0.29848, 0.3324 , 0.3767 , 0.40824, 0.42182, 0.48406, 0.51724,\n",
       "       0.52092, 0.53014, 0.54908])"
      ]
     },
     "execution_count": 22,
     "metadata": {},
     "output_type": "execute_result"
    }
   ],
   "source": [
    "avg_accs_boundary"
   ]
  },
  {
   "cell_type": "code",
   "execution_count": 23,
   "metadata": {
    "pycharm": {
     "name": "#%%\n"
    }
   },
   "outputs": [
    {
     "data": {
      "text/plain": [
       "array([0.2907 , 0.3552 , 0.3611 , 0.43178, 0.40608, 0.50242, 0.52102,\n",
       "       0.5301 , 0.5448 , 0.55234])"
      ]
     },
     "execution_count": 23,
     "metadata": {},
     "output_type": "execute_result"
    }
   ],
   "source": [
    "avg_accs_bp_smo"
   ]
  },
  {
   "cell_type": "code",
   "execution_count": 24,
   "metadata": {},
   "outputs": [
    {
     "data": {
      "text/plain": [
       "array([0.29734, 0.31094, 0.3783 , 0.44946, 0.44816, 0.49312, 0.50862,\n",
       "       0.54188, 0.5551 , 0.57732])"
      ]
     },
     "execution_count": 24,
     "metadata": {},
     "output_type": "execute_result"
    }
   ],
   "source": [
    "avg_accs_bp_lmo"
   ]
  },
  {
   "cell_type": "code",
   "execution_count": 25,
   "metadata": {},
   "outputs": [
    {
     "data": {
      "text/plain": [
       "array([0.2852 , 0.31966, 0.39944, 0.44198, 0.46946, 0.45668, 0.48434,\n",
       "       0.53202, 0.55734, 0.5473 ])"
      ]
     },
     "execution_count": 25,
     "metadata": {},
     "output_type": "execute_result"
    }
   ],
   "source": [
    "avg_accs_clusterwise"
   ]
  },
  {
   "cell_type": "code",
   "execution_count": 26,
   "metadata": {},
   "outputs": [
    {
     "data": {
      "text/plain": [
       "array([0.31016, 0.33688, 0.40374, 0.45186, 0.43506, 0.49656, 0.51994,\n",
       "       0.54958, 0.55688, 0.57726])"
      ]
     },
     "execution_count": 26,
     "metadata": {},
     "output_type": "execute_result"
    }
   ],
   "source": [
    "avg_accs_random"
   ]
  },
  {
   "cell_type": "code",
   "execution_count": 27,
   "metadata": {},
   "outputs": [
    {
     "data": {
      "text/plain": [
       "array([0.2852 , 0.34308, 0.39638, 0.4451 , 0.46682, 0.4653 , 0.51522,\n",
       "       0.52528, 0.54898, 0.52846])"
      ]
     },
     "execution_count": 27,
     "metadata": {},
     "output_type": "execute_result"
    }
   ],
   "source": [
    "avg_accs_random_uncertain"
   ]
  },
  {
   "cell_type": "code",
   "execution_count": 19,
   "metadata": {},
   "outputs": [],
   "source": []
  }
 ],
 "metadata": {
  "kernelspec": {
   "display_name": "Python 3",
   "language": "python",
   "name": "python3"
  },
  "language_info": {
   "codemirror_mode": {
    "name": "ipython",
    "version": 3
   },
   "file_extension": ".py",
   "mimetype": "text/x-python",
   "name": "python",
   "nbconvert_exporter": "python",
   "pygments_lexer": "ipython3",
   "version": "3.8.0"
  },
  "pycharm": {
   "stem_cell": {
    "cell_type": "raw",
    "metadata": {
     "collapsed": false
    },
    "source": [
     "%%\n",
     "\n",
     "import pandas as pd\n",
     "from mlflow.tracking import MlflowClient\n",
     "import numpy as np\n",
     "\n",
     "from matplotlib import pyplot as plt\n",
     "from src.database.mlflow import MLFlowClient\n",
     "from src.database.mlflow import MLFlowClient\n",
     "%matplotlib inline\n",
     "# %pylab\n",
     "\n",
     "import sys\n",
     "import glob\n",
     "sys.path.append('../')\n"
    ]
   }
  }
 },
 "nbformat": 4,
 "nbformat_minor": 1
}
