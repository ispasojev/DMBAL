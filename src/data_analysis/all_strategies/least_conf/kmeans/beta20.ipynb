{
 "cells": [
  {
   "cell_type": "code",
   "execution_count": 29,
   "metadata": {},
   "outputs": [],
   "source": [
    "import pandas as pd\n",
    "from mlflow.tracking import MlflowClient\n",
    "import numpy as np\n",
    "\n",
    "from matplotlib import pyplot as plt\n",
    "from src.data_analysis.analysis_helpers import get_run_ids, get_labeledSamples_avgAcc, get_out_dirs\n",
    "from src.database.mlflow import MLFlowClient\n",
    "from src.database.mlflow import MLFlowClient\n",
    "%matplotlib inline\n",
    "# %pylab\n",
    "\n",
    "import sys\n",
    "import glob\n",
    "sys.path.append('../')\n",
    "\n",
    "from mlflow.tracking import MlflowClient\n",
    "from src.database.mlflow import MLFlowClient\n",
    "db = MLFlowClient(tracking_uri=\"http://mlflow.dbs.ifi.lmu.de:5000/\", experiment_name=\"DMBAL\")\n",
    "tracking = MlflowClient()"
   ]
  },
  {
   "cell_type": "code",
   "execution_count": 30,
   "metadata": {},
   "outputs": [
    {
     "name": "stdout",
     "output_type": "stream",
     "text": [
      "5\n"
     ]
    }
   ],
   "source": [
    "runs_bp_smo = db.get_entries(['params.diversity_strategy', \"params.uncertainty\", \"params.clustering\", \"params.number_clusters\",\"params.max_epochs\", \"params.learning_rate\", \"params.optimizer\", \"params.beta\"],[True, True, True, True, True, True, True, True],[\"bp_smo_canceled\", \"least_confident\", \"kmeans\",10, 30, 0.01, \"Adam\",20])\n",
    "print(len(runs_bp_smo))\n",
    "#all_run_ids_smo = get_run_ids(runs_bp_smo)\n",
    "run_ids_smo = get_run_ids(runs_bp_smo.head(5))\n",
    "#nochmal mit tail ausgeben und schauen, ob es einen großen Unterschied macht"
   ]
  },
  {
   "cell_type": "code",
   "execution_count": 31,
   "metadata": {
    "pycharm": {
     "name": "#%%\n"
    }
   },
   "outputs": [
    {
     "name": "stdout",
     "output_type": "stream",
     "text": [
      "5\n"
     ]
    },
    {
     "data": {
      "text/plain": [
       "0    b4905a81187d4114a791df55769016c6\n",
       "1    a6483000f4b341ac92e42cafe24b1572\n",
       "2    24f973d5607b4a2f8072ced039a37b1f\n",
       "3    4e5dbaed1b2541038a56a4f99813fad6\n",
       "4    eb90fe20bc0e469ba57db23dccf75b51\n",
       "Name: run_id, dtype: object"
      ]
     },
     "execution_count": 31,
     "metadata": {},
     "output_type": "execute_result"
    }
   ],
   "source": [
    "runs_bp_lmo = db.get_entries(['params.diversity_strategy', \"params.uncertainty\", \"params.clustering\", \"params.max_epochs\", \"params.learning_rate\", \"params.beta\"],[True, True, True, True, True, True],[\"bp_lmo_canceled\", \"least_confident\", \"kmeans\", 30, 0.01, 20])\n",
    "print(len(runs_bp_lmo))\n",
    "#run_ids_bp_lmo = get_run_ids(runs_bp_lmo)\n",
    "run_ids_bp_lmo = get_run_ids(runs_bp_lmo.head(5))\n",
    "run_ids_bp_lmo"
   ]
  },
  {
   "cell_type": "code",
   "execution_count": 32,
   "metadata": {},
   "outputs": [
    {
     "name": "stdout",
     "output_type": "stream",
     "text": [
      "5\n"
     ]
    },
    {
     "data": {
      "text/plain": [
       "0    9698c939812b44519fcb6626ad00230c\n",
       "1    1c03d0a6607a40d6860935a37fcf06b3\n",
       "2    6e55d6e51fb441119b23cb65b1b49288\n",
       "3    db9cf7ad92974b86b106c2e0057e08a8\n",
       "4    db8e955b16804844ab31bb999b16d7aa\n",
       "Name: run_id, dtype: object"
      ]
     },
     "execution_count": 32,
     "metadata": {},
     "output_type": "execute_result"
    }
   ],
   "source": [
    "runs_centroids = db.get_entries(['params.diversity_strategy', \"params.uncertainty\", \"params.clustering\", \"params.k\",\"params.max_epochs\", \"params.learning_rate\", \"params.optimizer\", \"params.beta\"],[True, True, True, True, True, True, True, True],[\"centroids\", \"least_confident\", \"kmeans\",1000, 30, 0.01, \"Adam\", 20])\n",
    "print(len(runs_centroids))\n",
    "#run_ids_centroids = get_run_ids(runs_centroids)\n",
    "run_ids_centroids = get_run_ids(runs_centroids.head(5))\n",
    "run_ids_centroids"
   ]
  },
  {
   "cell_type": "code",
   "execution_count": 33,
   "metadata": {
    "pycharm": {
     "name": "#%%\n"
    }
   },
   "outputs": [
    {
     "name": "stdout",
     "output_type": "stream",
     "text": [
      "5\n"
     ]
    },
    {
     "data": {
      "text/plain": [
       "0    3c8908b8242b427ca93f0a9ed7d84412\n",
       "1    b32bbf8e07ab492c97b639af51d5b155\n",
       "2    1399f3b8ca2a4292867e3968c42587c4\n",
       "3    2868eed2f700464cb625c5e1ec6a53fe\n",
       "4    ff72db549988469084e9bea613852b69\n",
       "Name: run_id, dtype: object"
      ]
     },
     "execution_count": 33,
     "metadata": {},
     "output_type": "execute_result"
    }
   ],
   "source": [
    "runs_bp_clusterwise = db.get_entries(['params.diversity_strategy', \"params.uncertainty\", \"params.clustering\", \"params.k\",\"params.max_epochs\", \"params.learning_rate\", \"params.number_clusters\", \"params.beta\"],[True, True, True, True, True, True, True, True],[\"bp_prop_clustersize\", \"least_confident\", \"kmeans\",1000, 30, 0.01, 10, 20])\n",
    "print(len(runs_bp_clusterwise))\n",
    "#run_ids_bp_clusterwise = get_run_ids(runs_bp_clusterwise)\n",
    "run_ids_bp_clusterwise = get_run_ids(runs_bp_clusterwise.head(5))\n",
    "run_ids_bp_clusterwise"
   ]
  },
  {
   "cell_type": "code",
   "execution_count": 34,
   "metadata": {},
   "outputs": [
    {
     "name": "stdout",
     "output_type": "stream",
     "text": [
      "5\n"
     ]
    },
    {
     "data": {
      "text/plain": [
       "0    08b3668ef45a4abba0251db83b1e71cb\n",
       "1    92dad3830b33449390a262a4285447a5\n",
       "2    4c02dac6e7204196a210a3213d239914\n",
       "3    d8c3a4b885e04a88ace1ff2b7c4a5821\n",
       "4    6c80a1869e4943f58eba43ab1c5d53d5\n",
       "Name: run_id, dtype: object"
      ]
     },
     "execution_count": 34,
     "metadata": {},
     "output_type": "execute_result"
    }
   ],
   "source": [
    "runs_boundary = db.get_entries(['params.diversity_strategy', \"params.uncertainty\", \"params.clustering\", \"params.k\", \"params.learning_rate\", \"params.max_epochs\", \"params.number_clusters\", \"params.beta\"],[True, True, True, True, True, True, True, True],[\"boundary_points\", \"least_confident\", \"kmeans\",1000, 0.01, 30, 10, 20])\n",
    "print(len(runs_boundary))\n",
    "#run_ids_boundary = get_run_ids(runs_boundary)\n",
    "run_ids_boundary = get_run_ids(runs_boundary.head(5))\n",
    "run_ids_boundary"
   ]
  },
  {
   "cell_type": "code",
   "execution_count": 35,
   "metadata": {},
   "outputs": [
    {
     "name": "stdout",
     "output_type": "stream",
     "text": [
      "10\n"
     ]
    },
    {
     "data": {
      "text/plain": [
       "0    7f1e5628b6334cc3a9de37e61104358d\n",
       "1    421ff61556e5461f97a973fa111c3c63\n",
       "2    ae5681ec87874fbda5bd998ad8c13970\n",
       "3    1437f6a0f73a4039ad88d8c63b54f84c\n",
       "4    d2a0054c9b594e3cb78e9adb27ac6157\n",
       "Name: run_id, dtype: object"
      ]
     },
     "execution_count": 35,
     "metadata": {},
     "output_type": "execute_result"
    }
   ],
   "source": [
    "runs_random = db.get_entries(['params.diversity_strategy', \"params.learning_rate\", \"params.max_epochs\", \"params.sampling_size\"],[True, True, True, True],[\"random\", 0.01, 30, 1000])\n",
    "print(len(runs_random))\n",
    "#run_ids_random = get_run_ids(runs_random)\n",
    "run_ids_random = get_run_ids(runs_random.head(5))\n",
    "run_ids_random"
   ]
  },
  {
   "cell_type": "code",
   "execution_count": 36,
   "metadata": {},
   "outputs": [
    {
     "name": "stdout",
     "output_type": "stream",
     "text": [
      "5\n"
     ]
    },
    {
     "data": {
      "text/plain": [
       "0    04865de534e3485bbe25f9d05d4f75be\n",
       "1    5a88130208a545ceb433f2073c03a52c\n",
       "2    d4f6e9f137c4420885646fc35c9401e0\n",
       "3    f4d8e05ca871493dabf379dd96b6b22b\n",
       "4    b271c22c5a2b4729ba24f4c05ff5b286\n",
       "Name: run_id, dtype: object"
      ]
     },
     "execution_count": 36,
     "metadata": {},
     "output_type": "execute_result"
    }
   ],
   "source": [
    "runs_random_uncertainty = db.get_entries(['params.diversity_strategy', \"params.learning_rate\", \"params.max_epochs\", \"params.sampling_size\", \"params.beta\", \"params.uncertainty\"],[True, True, True, True, True, True],[\"random_uncertainty\", 0.01, 30, 1000, 20, \"least_confident\"])\n",
    "print(len(runs_random_uncertainty))\n",
    "#run_ids_random = get_run_ids(runs_random)\n",
    "run_ids_random_uncertainty = get_run_ids(runs_random_uncertainty.head(5))\n",
    "run_ids_random_uncertainty"
   ]
  },
  {
   "cell_type": "code",
   "execution_count": 37,
   "metadata": {},
   "outputs": [],
   "source": [
    "samples_labeled_bp_smo, avg_accs_bp_smo = get_labeledSamples_avgAcc(run_ids_smo, tracking)\n",
    "samples_labeled_bp_lmo, avg_accs_bp_lmo = get_labeledSamples_avgAcc(run_ids_bp_lmo, tracking)\n",
    "samples_labeled_centroids, avg_accs_centroids = get_labeledSamples_avgAcc(run_ids_centroids, tracking)\n",
    "samples_labeled_clusterwise, avg_accs_clusterwise = get_labeledSamples_avgAcc(run_ids_bp_clusterwise, tracking)\n",
    "samples_labeled_boundary, avg_accs_boundary = get_labeledSamples_avgAcc(run_ids_boundary, tracking)\n",
    "samples_labeled_random, avg_accs_random = get_labeledSamples_avgAcc(run_ids_random, tracking)\n",
    "samples_labeled_random_uncertain, avg_accs_random_uncertain = get_labeledSamples_avgAcc(run_ids_random_uncertainty, tracking)"
   ]
  },
  {
   "cell_type": "code",
   "execution_count": 38,
   "metadata": {
    "pycharm": {
     "name": "#%%\n"
    }
   },
   "outputs": [
    {
     "data": {
      "image/png": "[encoded data removed]",
      "text/plain": [
       "<Figure size 432x288 with 1 Axes>"
      ]
     },
     "metadata": {
      "needs_background": "light"
     },
     "output_type": "display_data"
    }
   ],
   "source": [
    "# plot\n",
    "plt.plot(samples_labeled_bp_smo, avg_accs_bp_smo,color='red', label='SMC', linewidth=2)\n",
    "plt.plot(samples_labeled_bp_lmo, avg_accs_bp_lmo,color='lightgreen', label='LMC', linewidth=2)\n",
    "plt.plot(samples_labeled_centroids, avg_accs_centroids,color='blue', label='centroids', linewidth=2)\n",
    "plt.plot(samples_labeled_clusterwise, avg_accs_clusterwise,color='magenta', label='WMC', linewidth=2)\n",
    "plt.plot(samples_labeled_boundary, avg_accs_boundary,color='black', label='SMP', linestyle='--',linewidth=2)\n",
    "plt.plot(samples_labeled_random, avg_accs_random,color='yellow', label='random',linewidth=2)\n",
    "plt.legend()\n",
    "plt.xlabel('number of annotated samples')\n",
    "plt.ylabel('accuracy')\n",
    "plt.grid(b=True, color='lightgrey', linestyle='-', linewidth=1)\n",
    "plt.ylim([0.29, 0.60])\n",
    "\n",
    "plt.show()"
   ]
  },
  {
   "cell_type": "code",
   "execution_count": 39,
   "metadata": {
    "pycharm": {
     "name": "#%%"
    }
   },
   "outputs": [
    {
     "data": {
      "image/png": "[encoded data removed]",
      "text/plain": [
       "<Figure size 432x288 with 1 Axes>"
      ]
     },
     "metadata": {
      "needs_background": "light"
     },
     "output_type": "display_data"
    }
   ],
   "source": [
    "plt.plot(samples_labeled_bp_smo, avg_accs_bp_smo,color='lightgreen', label='bp_smo_canceled', linewidth=2)\n",
    "plt.plot(samples_labeled_clusterwise, avg_accs_clusterwise,color='magenta', label='bp_prop_clustersize', linewidth=2)\n",
    "plt.plot(samples_labeled_boundary, avg_accs_boundary,color='black', label='boundary_points', linestyle='--',linewidth=2)\n",
    "plt.legend()\n",
    "plt.xlabel('number of annotated samples')\n",
    "plt.ylabel('accuracy')\n",
    "plt.grid(b=True, color='lightgrey', linestyle='-', linewidth=1)\n",
    "plt.ylim([0.29, 0.58])\n",
    "\n",
    "plt.show()"
   ]
  },
  {
   "cell_type": "code",
   "execution_count": 40,
   "metadata": {},
   "outputs": [
    {
     "name": "stdout",
     "output_type": "stream",
     "text": [
      "bp_smo: [0.27948 0.34872 0.3731  0.43406 0.45936 0.496   0.52942 0.5318  0.54602\n",
      " 0.57002]\n",
      "bp_lmo: [0.29602 0.35152 0.37862 0.4363  0.44774 0.51574 0.5202  0.52934 0.54788\n",
      " 0.56944]\n"
     ]
    }
   ],
   "source": [
    "print(f'bp_smo: {avg_accs_bp_smo}')\n",
    "print(f'bp_lmo: {avg_accs_bp_lmo}')"
   ]
  },
  {
   "cell_type": "code",
   "execution_count": 41,
   "metadata": {
    "pycharm": {
     "name": "#%%\n"
    }
   },
   "outputs": [
    {
     "data": {
      "text/plain": [
       "array([0.29642, 0.35754, 0.3696 , 0.4258 , 0.43694, 0.50774, 0.50432,\n",
       "       0.54178, 0.53292, 0.57312])"
      ]
     },
     "execution_count": 41,
     "metadata": {},
     "output_type": "execute_result"
    }
   ],
   "source": [
    "avg_accs_centroids"
   ]
  },
  {
   "cell_type": "code",
   "execution_count": 42,
   "metadata": {},
   "outputs": [
    {
     "data": {
      "text/plain": [
       "array([0.29734, 0.31828, 0.35672, 0.43642, 0.45762, 0.48116, 0.51494,\n",
       "       0.52048, 0.55742, 0.54386])"
      ]
     },
     "execution_count": 42,
     "metadata": {},
     "output_type": "execute_result"
    }
   ],
   "source": [
    "avg_accs_boundary"
   ]
  },
  {
   "cell_type": "code",
   "execution_count": 43,
   "metadata": {
    "pycharm": {
     "name": "#%%\n"
    }
   },
   "outputs": [
    {
     "data": {
      "text/plain": [
       "array([0.27948, 0.34872, 0.3731 , 0.43406, 0.45936, 0.496  , 0.52942,\n",
       "       0.5318 , 0.54602, 0.57002])"
      ]
     },
     "execution_count": 43,
     "metadata": {},
     "output_type": "execute_result"
    }
   ],
   "source": [
    "avg_accs_bp_smo"
   ]
  },
  {
   "cell_type": "code",
   "execution_count": 44,
   "metadata": {},
   "outputs": [
    {
     "data": {
      "text/plain": [
       "array([0.29602, 0.35152, 0.37862, 0.4363 , 0.44774, 0.51574, 0.5202 ,\n",
       "       0.52934, 0.54788, 0.56944])"
      ]
     },
     "execution_count": 44,
     "metadata": {},
     "output_type": "execute_result"
    }
   ],
   "source": [
    "avg_accs_bp_lmo"
   ]
  },
  {
   "cell_type": "code",
   "execution_count": 45,
   "metadata": {},
   "outputs": [
    {
     "data": {
      "text/plain": [
       "array([0.2852 , 0.34648, 0.3824 , 0.43402, 0.43832, 0.47956, 0.49776,\n",
       "       0.51722, 0.54614, 0.5388 ])"
      ]
     },
     "execution_count": 45,
     "metadata": {},
     "output_type": "execute_result"
    }
   ],
   "source": [
    "avg_accs_clusterwise"
   ]
  },
  {
   "cell_type": "code",
   "execution_count": 46,
   "metadata": {},
   "outputs": [
    {
     "data": {
      "text/plain": [
       "array([0.31016, 0.33688, 0.40374, 0.45186, 0.43506, 0.49656, 0.51994,\n",
       "       0.54958, 0.55688, 0.57726])"
      ]
     },
     "execution_count": 46,
     "metadata": {},
     "output_type": "execute_result"
    }
   ],
   "source": [
    "avg_accs_random"
   ]
  },
  {
   "cell_type": "code",
   "execution_count": 47,
   "metadata": {},
   "outputs": [
    {
     "data": {
      "text/plain": [
       "array([0.29694, 0.33688, 0.3959 , 0.41192, 0.44138, 0.514  , 0.51272,\n",
       "       0.51094, 0.54172, 0.56792])"
      ]
     },
     "execution_count": 47,
     "metadata": {},
     "output_type": "execute_result"
    }
   ],
   "source": [
    "avg_accs_random_uncertain"
   ]
  }
 ],
 "metadata": {
  "kernelspec": {
   "display_name": "Python 3",
   "language": "python",
   "name": "python3"
  },
  "language_info": {
   "codemirror_mode": {
    "name": "ipython",
    "version": 3
   },
   "file_extension": ".py",
   "mimetype": "text/x-python",
   "name": "python",
   "nbconvert_exporter": "python",
   "pygments_lexer": "ipython3",
   "version": "3.8.0"
  },
  "pycharm": {
   "stem_cell": {
    "cell_type": "raw",
    "metadata": {
     "collapsed": false
    },
    "source": [
     "%%\n",
     "\n",
     "import pandas as pd\n",
     "from mlflow.tracking import MlflowClient\n",
     "import numpy as np\n",
     "\n",
     "from matplotlib import pyplot as plt\n",
     "from src.database.mlflow import MLFlowClient\n",
     "from src.database.mlflow import MLFlowClient\n",
     "%matplotlib inline\n",
     "# %pylab\n",
     "\n",
     "import sys\n",
     "import glob\n",
     "sys.path.append('../')\n"
    ]
   }
  }
 },
 "nbformat": 4,
 "nbformat_minor": 1
}
