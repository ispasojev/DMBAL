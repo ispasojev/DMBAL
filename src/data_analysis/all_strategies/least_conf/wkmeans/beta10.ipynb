{
 "cells": [
  {
   "cell_type": "code",
   "execution_count": 1,
   "metadata": {},
   "outputs": [
    {
     "name": "stderr",
     "output_type": "stream",
     "text": [
      "/Users/ilijanaspasojevic/PycharmProjects/dmbal/src/data_analysis/analysis_helpers.py:1: FutureWarning: The pandas.np module is deprecated and will be removed from pandas in a future version. Import numpy directly instead\n",
      "  from pandas import np\n"
     ]
    }
   ],
   "source": [
    "import pandas as pd\n",
    "from mlflow.tracking import MlflowClient\n",
    "import numpy as np\n",
    "\n",
    "from matplotlib import pyplot as plt\n",
    "from src.data_analysis.analysis_helpers import get_run_ids, get_labeledSamples_avgAcc, get_out_dirs\n",
    "from src.database.mlflow import MLFlowClient\n",
    "from src.database.mlflow import MLFlowClient\n",
    "%matplotlib inline\n",
    "# %pylab\n",
    "\n",
    "import sys\n",
    "import glob\n",
    "sys.path.append('../')\n",
    "\n",
    "from mlflow.tracking import MlflowClient\n",
    "from src.database.mlflow import MLFlowClient\n",
    "db = MLFlowClient(tracking_uri=\"http://mlflow.dbs.ifi.lmu.de:5000/\", experiment_name=\"DMBAL\")\n",
    "tracking = MlflowClient()"
   ]
  },
  {
   "cell_type": "code",
   "execution_count": 2,
   "metadata": {},
   "outputs": [
    {
     "name": "stdout",
     "output_type": "stream",
     "text": [
      "10\n"
     ]
    }
   ],
   "source": [
    "runs_bp_smo = db.get_entries(['params.diversity_strategy', \"params.uncertainty\", \"params.clustering\", \"params.number_clusters\",\"params.max_epochs\", \"params.learning_rate\", \"params.optimizer\", \"params.beta\"],[True, True, True, True, True, True, True, True],[\"bp_smo_canceled\", \"least_confident\", \"w_kmeans\",10, 30, 0.01, \"Adam\",10])\n",
    "print(len(runs_bp_smo))\n",
    "#all_run_ids_smo = get_run_ids(runs_bp_smo)\n",
    "run_ids_smo = get_run_ids(runs_bp_smo.head(5))\n",
    "#nochmal mit tail ausgeben und schauen, ob es einen großen Unterschied macht"
   ]
  },
  {
   "cell_type": "code",
   "execution_count": 3,
   "metadata": {
    "pycharm": {
     "name": "#%%\n"
    }
   },
   "outputs": [
    {
     "name": "stdout",
     "output_type": "stream",
     "text": [
      "10\n"
     ]
    },
    {
     "data": {
      "text/plain": [
       "0    161dbbb5603a4cacbf25c19dfe0c6e04\n",
       "1    6bd221d36c4643a891f2b9372f7eec2a\n",
       "2    e5c0e13b79514c0ba9eb7dac96febce0\n",
       "3    e114ab8981d84324b161a4af0a3bdbe9\n",
       "4    b3671c68b1a64565b2b8dd67e4dd379a\n",
       "Name: run_id, dtype: object"
      ]
     },
     "execution_count": 3,
     "metadata": {},
     "output_type": "execute_result"
    }
   ],
   "source": [
    "runs_bp_lmo = db.get_entries(['params.diversity_strategy', \"params.uncertainty\", \"params.clustering\", \"params.max_epochs\", \"params.learning_rate\", \"params.beta\"],[True, True, True, True, True, True],[\"bp_lmo_canceled\", \"least_confident\", \"w_kmeans\", 30, 0.01, 10])\n",
    "print(len(runs_bp_lmo))\n",
    "#run_ids_bp_lmo = get_run_ids(runs_bp_lmo)\n",
    "run_ids_bp_lmo = get_run_ids(runs_bp_lmo.head(5))\n",
    "run_ids_bp_lmo"
   ]
  },
  {
   "cell_type": "code",
   "execution_count": 4,
   "metadata": {},
   "outputs": [
    {
     "name": "stdout",
     "output_type": "stream",
     "text": [
      "10\n"
     ]
    },
    {
     "data": {
      "text/plain": [
       "0    2e96fecdd5904b6483c8c02d216a4f71\n",
       "1    8f22417afa90455083fddd4bd508ca78\n",
       "2    19700c8699754d75970866deadbcbbac\n",
       "3    6fab6f07b36642bea8aba4e0f26d8a2a\n",
       "4    85ecc7f6544e4ce2a8555ec3d5c9c39e\n",
       "Name: run_id, dtype: object"
      ]
     },
     "execution_count": 4,
     "metadata": {},
     "output_type": "execute_result"
    }
   ],
   "source": [
    "runs_centroids = db.get_entries(['params.diversity_strategy', \"params.uncertainty\", \"params.clustering\", \"params.k\",\"params.max_epochs\", \"params.learning_rate\", \"params.optimizer\", \"params.beta\"],[True, True, True, True, True, True, True, True],[\"centroids\", \"least_confident\", \"w_kmeans\",1000, 30, 0.01, \"Adam\", 10])\n",
    "print(len(runs_centroids))\n",
    "#run_ids_centroids = get_run_ids(runs_centroids)\n",
    "run_ids_centroids = get_run_ids(runs_centroids.head(5))\n",
    "run_ids_centroids"
   ]
  },
  {
   "cell_type": "code",
   "execution_count": 5,
   "metadata": {
    "pycharm": {
     "name": "#%%\n"
    }
   },
   "outputs": [
    {
     "name": "stdout",
     "output_type": "stream",
     "text": [
      "10\n"
     ]
    },
    {
     "data": {
      "text/plain": [
       "0    4741245adc60460581b7f975e4de69cb\n",
       "1    b95251e4ef094115a94fa8a5bd9419b8\n",
       "2    da596fe1221a4646b1420759413f2871\n",
       "3    92f0c3936f8a48dd9f591e9002cc2d06\n",
       "4    fb9d1fec16be487388c45b829d9058b9\n",
       "Name: run_id, dtype: object"
      ]
     },
     "execution_count": 5,
     "metadata": {},
     "output_type": "execute_result"
    }
   ],
   "source": [
    "runs_bp_clusterwise = db.get_entries(['params.diversity_strategy', \"params.uncertainty\", \"params.clustering\", \"params.k\",\"params.max_epochs\", \"params.learning_rate\", \"params.number_clusters\", \"params.beta\"],[True, True, True, True, True, True, True, True],[\"bp_prop_clustersize\", \"least_confident\", \"w_kmeans\",1000, 30, 0.01, 10, 10])\n",
    "print(len(runs_bp_clusterwise))\n",
    "#run_ids_bp_clusterwise = get_run_ids(runs_bp_clusterwise)\n",
    "run_ids_bp_clusterwise = get_run_ids(runs_bp_clusterwise.head(5))\n",
    "run_ids_bp_clusterwise"
   ]
  },
  {
   "cell_type": "code",
   "execution_count": 6,
   "metadata": {},
   "outputs": [
    {
     "name": "stdout",
     "output_type": "stream",
     "text": [
      "10\n"
     ]
    },
    {
     "data": {
      "text/plain": [
       "0    df7e3c05f8ff4704a69716f246a8ea10\n",
       "1    eebcec36e1c341628c051a1e52b4109b\n",
       "2    3f0f68d609714118b4677f98d8c82963\n",
       "3    b71b18bbbbca4de98210d52682068368\n",
       "4    4c2a5208469d424490b35453b992f760\n",
       "Name: run_id, dtype: object"
      ]
     },
     "execution_count": 6,
     "metadata": {},
     "output_type": "execute_result"
    }
   ],
   "source": [
    "runs_boundary = db.get_entries(['params.diversity_strategy', \"params.uncertainty\", \"params.clustering\", \"params.k\", \"params.learning_rate\", \"params.max_epochs\", \"params.number_clusters\", \"params.beta\"],[True, True, True, True, True, True, True, True],[\"boundary_points\", \"least_confident\", \"w_kmeans\",1000, 0.01, 30, 10, 10])\n",
    "print(len(runs_boundary))\n",
    "#run_ids_boundary = get_run_ids(runs_boundary)\n",
    "run_ids_boundary = get_run_ids(runs_boundary.head(5))\n",
    "run_ids_boundary"
   ]
  },
  {
   "cell_type": "code",
   "execution_count": 7,
   "metadata": {},
   "outputs": [
    {
     "name": "stdout",
     "output_type": "stream",
     "text": [
      "10\n"
     ]
    },
    {
     "data": {
      "text/plain": [
       "0    7f1e5628b6334cc3a9de37e61104358d\n",
       "1    421ff61556e5461f97a973fa111c3c63\n",
       "2    ae5681ec87874fbda5bd998ad8c13970\n",
       "3    1437f6a0f73a4039ad88d8c63b54f84c\n",
       "4    d2a0054c9b594e3cb78e9adb27ac6157\n",
       "Name: run_id, dtype: object"
      ]
     },
     "execution_count": 7,
     "metadata": {},
     "output_type": "execute_result"
    }
   ],
   "source": [
    "runs_random = db.get_entries(['params.diversity_strategy', \"params.learning_rate\", \"params.max_epochs\", \"params.sampling_size\"],[True, True, True, True],[\"random\", 0.01, 30, 1000])\n",
    "print(len(runs_random))\n",
    "#run_ids_random = get_run_ids(runs_random)\n",
    "run_ids_random = get_run_ids(runs_random.head(5))\n",
    "run_ids_random"
   ]
  },
  {
   "cell_type": "code",
   "execution_count": 8,
   "metadata": {},
   "outputs": [
    {
     "name": "stdout",
     "output_type": "stream",
     "text": [
      "10\n"
     ]
    },
    {
     "data": {
      "text/plain": [
       "0    3e4aa56c74f040419a3e10478a8821ef\n",
       "1    f638f1adedb34f3983bd522bb6355803\n",
       "2    d66f99ac1d23433e87965cff999908ab\n",
       "3    892d80c15a5540989f0205fc8a1e43a1\n",
       "4    b82bdc76575748129621c2524d083563\n",
       "Name: run_id, dtype: object"
      ]
     },
     "execution_count": 8,
     "metadata": {},
     "output_type": "execute_result"
    }
   ],
   "source": [
    "runs_random_uncertainty = db.get_entries(['params.diversity_strategy', \"params.learning_rate\", \"params.max_epochs\", \"params.sampling_size\", \"params.beta\", \"params.uncertainty\"],[True, True, True, True, True, True],[\"random_uncertainty\", 0.01, 30, 1000, 10, \"least_confident\"])\n",
    "print(len(runs_random_uncertainty))\n",
    "#run_ids_random = get_run_ids(runs_random)\n",
    "run_ids_random_uncertainty = get_run_ids(runs_random_uncertainty.head(5))\n",
    "run_ids_random_uncertainty"
   ]
  },
  {
   "cell_type": "code",
   "execution_count": 9,
   "metadata": {},
   "outputs": [],
   "source": [
    "samples_labeled_bp_smo, avg_accs_bp_smo = get_labeledSamples_avgAcc(run_ids_smo, tracking)\n",
    "samples_labeled_bp_lmo, avg_accs_bp_lmo = get_labeledSamples_avgAcc(run_ids_bp_lmo, tracking)\n",
    "samples_labeled_centroids, avg_accs_centroids = get_labeledSamples_avgAcc(run_ids_centroids, tracking)\n",
    "samples_labeled_clusterwise, avg_accs_clusterwise = get_labeledSamples_avgAcc(run_ids_bp_clusterwise, tracking)\n",
    "samples_labeled_boundary, avg_accs_boundary = get_labeledSamples_avgAcc(run_ids_boundary, tracking)\n",
    "samples_labeled_random, avg_accs_random = get_labeledSamples_avgAcc(run_ids_random, tracking)\n",
    "samples_labeled_random_uncertain, avg_accs_random_uncertain = get_labeledSamples_avgAcc(run_ids_random_uncertainty, tracking)"
   ]
  },
  {
   "cell_type": "code",
   "execution_count": 10,
   "metadata": {
    "pycharm": {
     "name": "#%%\n"
    }
   },
   "outputs": [
    {
     "data": {
      "image/png": "[encoded data removed]",
      "text/plain": [
       "<Figure size 432x288 with 1 Axes>"
      ]
     },
     "metadata": {
      "needs_background": "light"
     },
     "output_type": "display_data"
    }
   ],
   "source": [
    "# plot\n",
    "plt.plot(samples_labeled_bp_smo, avg_accs_bp_smo,color='red', label='SMC', linewidth=2)\n",
    "plt.plot(samples_labeled_bp_lmo, avg_accs_bp_lmo,color='lightgreen', label='LMC', linewidth=2)\n",
    "plt.plot(samples_labeled_centroids, avg_accs_centroids,color='blue', label='centroids', linewidth=2)\n",
    "plt.plot(samples_labeled_clusterwise, avg_accs_clusterwise,color='magenta', label='WMC', linewidth=2)\n",
    "plt.plot(samples_labeled_boundary, avg_accs_boundary,color='black', label='SMP', linestyle='--',linewidth=2)\n",
    "plt.plot(samples_labeled_random, avg_accs_random,color='yellow', label='random',linewidth=2)\n",
    "plt.legend()\n",
    "plt.xlabel('number of annotated samples')\n",
    "plt.ylabel('accuracy')\n",
    "plt.grid(b=True, color='lightgrey', linestyle='-', linewidth=1)\n",
    "plt.ylim([0.29, 0.60])\n",
    "\n",
    "plt.show()"
   ]
  },
  {
   "cell_type": "code",
   "execution_count": 11,
   "metadata": {
    "pycharm": {
     "name": "#%%"
    }
   },
   "outputs": [
    {
     "data": {
      "image/png": "[encoded data removed]",
      "text/plain": [
       "<Figure size 432x288 with 1 Axes>"
      ]
     },
     "metadata": {
      "needs_background": "light"
     },
     "output_type": "display_data"
    }
   ],
   "source": [
    "plt.plot(samples_labeled_bp_smo, avg_accs_bp_smo,color='lightgreen', label='bp_smo_canceled', linewidth=2)\n",
    "plt.plot(samples_labeled_clusterwise, avg_accs_clusterwise,color='magenta', label='bp_prop_clustersize', linewidth=2)\n",
    "plt.plot(samples_labeled_boundary, avg_accs_boundary,color='black', label='boundary_points', linestyle='--',linewidth=2)\n",
    "plt.legend()\n",
    "plt.xlabel('number of annotated samples')\n",
    "plt.ylabel('accuracy')\n",
    "plt.grid(b=True, color='lightgrey', linestyle='-', linewidth=1)\n",
    "plt.ylim([0.29, 0.58])\n",
    "\n",
    "plt.show()"
   ]
  },
  {
   "cell_type": "code",
   "execution_count": 12,
   "metadata": {},
   "outputs": [
    {
     "name": "stdout",
     "output_type": "stream",
     "text": [
      "bp_smo: [0.2963  0.34104 0.3478  0.43082 0.44084 0.46078 0.5042  0.52486 0.5525\n",
      " 0.5442 ]\n",
      "bp_lmo: [0.3157  0.29128 0.38994 0.42536 0.45954 0.51188 0.50894 0.54766 0.52658\n",
      " 0.55886]\n"
     ]
    }
   ],
   "source": [
    "print(f'bp_smo: {avg_accs_bp_smo}')\n",
    "print(f'bp_lmo: {avg_accs_bp_lmo}')"
   ]
  },
  {
   "cell_type": "code",
   "execution_count": 13,
   "metadata": {
    "pycharm": {
     "name": "#%%\n"
    }
   },
   "outputs": [
    {
     "data": {
      "text/plain": [
       "array([0.29026, 0.31718, 0.36002, 0.3763 , 0.45666, 0.4475 , 0.5277 ,\n",
       "       0.49696, 0.542  , 0.5554 ])"
      ]
     },
     "execution_count": 13,
     "metadata": {},
     "output_type": "execute_result"
    }
   ],
   "source": [
    "avg_accs_centroids"
   ]
  },
  {
   "cell_type": "code",
   "execution_count": 14,
   "metadata": {},
   "outputs": [
    {
     "data": {
      "text/plain": [
       "array([0.304  , 0.32184, 0.37988, 0.38304, 0.39886, 0.4821 , 0.4786 ,\n",
       "       0.50506, 0.55436, 0.54944])"
      ]
     },
     "execution_count": 14,
     "metadata": {},
     "output_type": "execute_result"
    }
   ],
   "source": [
    "avg_accs_boundary"
   ]
  },
  {
   "cell_type": "code",
   "execution_count": 15,
   "metadata": {
    "pycharm": {
     "name": "#%%\n"
    }
   },
   "outputs": [
    {
     "data": {
      "text/plain": [
       "array([0.2963 , 0.34104, 0.3478 , 0.43082, 0.44084, 0.46078, 0.5042 ,\n",
       "       0.52486, 0.5525 , 0.5442 ])"
      ]
     },
     "execution_count": 15,
     "metadata": {},
     "output_type": "execute_result"
    }
   ],
   "source": [
    "avg_accs_bp_smo"
   ]
  },
  {
   "cell_type": "code",
   "execution_count": 16,
   "metadata": {},
   "outputs": [
    {
     "data": {
      "text/plain": [
       "array([0.3157 , 0.29128, 0.38994, 0.42536, 0.45954, 0.51188, 0.50894,\n",
       "       0.54766, 0.52658, 0.55886])"
      ]
     },
     "execution_count": 16,
     "metadata": {},
     "output_type": "execute_result"
    }
   ],
   "source": [
    "avg_accs_bp_lmo"
   ]
  },
  {
   "cell_type": "code",
   "execution_count": 17,
   "metadata": {},
   "outputs": [
    {
     "data": {
      "text/plain": [
       "array([0.30218, 0.3235 , 0.34748, 0.40758, 0.43368, 0.4981 , 0.4966 ,\n",
       "       0.51336, 0.53486, 0.57924])"
      ]
     },
     "execution_count": 17,
     "metadata": {},
     "output_type": "execute_result"
    }
   ],
   "source": [
    "avg_accs_clusterwise"
   ]
  },
  {
   "cell_type": "code",
   "execution_count": 18,
   "metadata": {},
   "outputs": [
    {
     "data": {
      "text/plain": [
       "array([0.31016, 0.33688, 0.40374, 0.45186, 0.43506, 0.49656, 0.51994,\n",
       "       0.54958, 0.55688, 0.57726])"
      ]
     },
     "execution_count": 18,
     "metadata": {},
     "output_type": "execute_result"
    }
   ],
   "source": [
    "avg_accs_random"
   ]
  },
  {
   "cell_type": "code",
   "execution_count": 19,
   "metadata": {},
   "outputs": [
    {
     "data": {
      "text/plain": [
       "array([0.29812, 0.30822, 0.40064, 0.43942, 0.4214 , 0.46528, 0.50886,\n",
       "       0.5347 , 0.55396, 0.55926])"
      ]
     },
     "execution_count": 19,
     "metadata": {},
     "output_type": "execute_result"
    }
   ],
   "source": [
    "avg_accs_random_uncertain"
   ]
  },
  {
   "cell_type": "code",
   "execution_count": null,
   "metadata": {},
   "outputs": [],
   "source": []
  }
 ],
 "metadata": {
  "kernelspec": {
   "display_name": "Python 3",
   "language": "python",
   "name": "python3"
  },
  "language_info": {
   "codemirror_mode": {
    "name": "ipython",
    "version": 3
   },
   "file_extension": ".py",
   "mimetype": "text/x-python",
   "name": "python",
   "nbconvert_exporter": "python",
   "pygments_lexer": "ipython3",
   "version": "3.8.0"
  },
  "pycharm": {
   "stem_cell": {
    "cell_type": "raw",
    "source": [
     "%%\n",
     "\n",
     "import pandas as pd\n",
     "from mlflow.tracking import MlflowClient\n",
     "import numpy as np\n",
     "\n",
     "from matplotlib import pyplot as plt\n",
     "from src.database.mlflow import MLFlowClient\n",
     "from src.database.mlflow import MLFlowClient\n",
     "%matplotlib inline\n",
     "# %pylab\n",
     "\n",
     "import sys\n",
     "import glob\n",
     "sys.path.append('../')\n"
    ],
    "metadata": {
     "collapsed": false
    }
   }
  }
 },
 "nbformat": 4,
 "nbformat_minor": 1
}