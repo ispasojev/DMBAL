{
 "cells": [
  {
   "cell_type": "code",
   "execution_count": 1,
   "metadata": {},
   "outputs": [
    {
     "name": "stderr",
     "output_type": "stream",
     "text": [
      "/Users/ilijanaspasojevic/PycharmProjects/dmbal/src/data_analysis/analysis_helpers.py:1: FutureWarning: The pandas.np module is deprecated and will be removed from pandas in a future version. Import numpy directly instead\n",
      "  from pandas import np\n"
     ]
    }
   ],
   "source": [
    "import pandas as pd\n",
    "from mlflow.tracking import MlflowClient\n",
    "import numpy as np\n",
    "\n",
    "from matplotlib import pyplot as plt\n",
    "from src.data_analysis.analysis_helpers import get_run_ids, get_labeledSamples_avgAcc, get_out_dirs\n",
    "from src.database.mlflow import MLFlowClient\n",
    "from src.database.mlflow import MLFlowClient\n",
    "%matplotlib inline\n",
    "# %pylab\n",
    "\n",
    "import sys\n",
    "import glob\n",
    "sys.path.append('../')\n",
    "\n",
    "from mlflow.tracking import MlflowClient\n",
    "from src.database.mlflow import MLFlowClient\n",
    "db = MLFlowClient(tracking_uri=\"http://mlflow.dbs.ifi.lmu.de:5000/\", experiment_name=\"DMBAL\")\n",
    "tracking = MlflowClient()"
   ]
  },
  {
   "cell_type": "code",
   "execution_count": 2,
   "metadata": {},
   "outputs": [
    {
     "name": "stdout",
     "output_type": "stream",
     "text": [
      "5\n"
     ]
    }
   ],
   "source": [
    "runs_bp_smo = db.get_entries(['params.diversity_strategy', \"params.uncertainty\", \"params.clustering\", \"params.number_clusters\",\"params.max_epochs\", \"params.learning_rate\", \"params.optimizer\", \"params.beta\"],[True, True, True, True, True, True, True, True],[\"bp_smo_canceled\", \"margin\", \"w_kmeans\",10, 30, 0.01, \"Adam\",20])\n",
    "print(len(runs_bp_smo))\n",
    "#all_run_ids_smo = get_run_ids(runs_bp_smo)\n",
    "run_ids_smo = get_run_ids(runs_bp_smo.head(5))\n",
    "#nochmal mit tail ausgeben und schauen, ob es einen großen Unterschied macht"
   ]
  },
  {
   "cell_type": "code",
   "execution_count": 3,
   "metadata": {
    "pycharm": {
     "name": "#%%\n"
    }
   },
   "outputs": [
    {
     "name": "stdout",
     "output_type": "stream",
     "text": [
      "5\n"
     ]
    },
    {
     "data": {
      "text/plain": [
       "0    678415ef1b4a45418ec37a34bcb4112d\n",
       "1    e4f536870c5c4e0693890a205bfdd3db\n",
       "2    778886372e68441f8f2326d5c37b753b\n",
       "3    051bada99b3d41baa78461f71206320b\n",
       "4    b3be61dcc1d64ba7b7c5338eb6f52833\n",
       "Name: run_id, dtype: object"
      ]
     },
     "execution_count": 3,
     "metadata": {},
     "output_type": "execute_result"
    }
   ],
   "source": [
    "runs_bp_lmo = db.get_entries(['params.diversity_strategy', \"params.uncertainty\", \"params.clustering\", \"params.max_epochs\", \"params.learning_rate\", \"params.beta\"],[True, True, True, True, True, True],[\"bp_lmo_canceled\", \"margin\", \"w_kmeans\", 30, 0.01, 20])\n",
    "print(len(runs_bp_lmo))\n",
    "#run_ids_bp_lmo = get_run_ids(runs_bp_lmo)\n",
    "run_ids_bp_lmo = get_run_ids(runs_bp_lmo.head(5))\n",
    "run_ids_bp_lmo"
   ]
  },
  {
   "cell_type": "code",
   "execution_count": 4,
   "metadata": {},
   "outputs": [
    {
     "name": "stdout",
     "output_type": "stream",
     "text": [
      "5\n"
     ]
    },
    {
     "data": {
      "text/plain": [
       "0    cc75f9e086614f13ba0e3848bac19e13\n",
       "1    b097c695970a429ab2ceab5ccc7d3850\n",
       "2    87e2c60557dc4d8a8f7734c695bb283d\n",
       "3    22cd3fe1f47c4f91a2202dd14d53fb84\n",
       "4    b2a73088820c4bda989183ab5dd8d58b\n",
       "Name: run_id, dtype: object"
      ]
     },
     "execution_count": 4,
     "metadata": {},
     "output_type": "execute_result"
    }
   ],
   "source": [
    "runs_centroids = db.get_entries(['params.diversity_strategy', \"params.uncertainty\", \"params.clustering\", \"params.k\",\"params.max_epochs\", \"params.learning_rate\", \"params.optimizer\", \"params.beta\"],[True, True, True, True, True, True, True, True],[\"centroids\", \"margin\", \"w_kmeans\",1000, 30, 0.01, \"Adam\", 20])\n",
    "print(len(runs_centroids))\n",
    "#run_ids_centroids = get_run_ids(runs_centroids)\n",
    "run_ids_centroids = get_run_ids(runs_centroids.head(5))\n",
    "run_ids_centroids"
   ]
  },
  {
   "cell_type": "code",
   "execution_count": 5,
   "metadata": {
    "pycharm": {
     "name": "#%%\n"
    }
   },
   "outputs": [
    {
     "name": "stdout",
     "output_type": "stream",
     "text": [
      "5\n"
     ]
    },
    {
     "data": {
      "text/plain": [
       "0    e66f7f96068348759e18b58d686055dc\n",
       "1    024b03caca844972804548cca2842961\n",
       "2    0e6bb3de3eb34475848840a6453ef5f8\n",
       "3    ff69d65bf3dd400cb853173b7b627c62\n",
       "4    312544bfa2d642488d27f12530985e1f\n",
       "Name: run_id, dtype: object"
      ]
     },
     "execution_count": 5,
     "metadata": {},
     "output_type": "execute_result"
    }
   ],
   "source": [
    "runs_bp_clusterwise = db.get_entries(['params.diversity_strategy', \"params.uncertainty\", \"params.clustering\", \"params.k\",\"params.max_epochs\", \"params.learning_rate\", \"params.number_clusters\", \"params.beta\"],[True, True, True, True, True, True, True, True],[\"bp_prop_clustersize\", \"margin\", \"w_kmeans\",1000, 30, 0.01, 10, 20])\n",
    "print(len(runs_bp_clusterwise))\n",
    "#run_ids_bp_clusterwise = get_run_ids(runs_bp_clusterwise)\n",
    "run_ids_bp_clusterwise = get_run_ids(runs_bp_clusterwise.head(5))\n",
    "run_ids_bp_clusterwise"
   ]
  },
  {
   "cell_type": "code",
   "execution_count": 6,
   "metadata": {},
   "outputs": [
    {
     "name": "stdout",
     "output_type": "stream",
     "text": [
      "5\n"
     ]
    },
    {
     "data": {
      "text/plain": [
       "0    adec891281564b35af6b0e77566a40a2\n",
       "1    249dc24345c64f48ba9fb7acce67dc80\n",
       "2    fcf4e4b446d945c6b0df9d9db45fb5fa\n",
       "3    c2d4c2b564014ff4b2f407218ce13823\n",
       "4    832e95e0e5c24c95bdee249c23579083\n",
       "Name: run_id, dtype: object"
      ]
     },
     "execution_count": 6,
     "metadata": {},
     "output_type": "execute_result"
    }
   ],
   "source": [
    "runs_boundary = db.get_entries(['params.diversity_strategy', \"params.uncertainty\", \"params.clustering\", \"params.k\", \"params.learning_rate\", \"params.max_epochs\", \"params.number_clusters\", \"params.beta\"],[True, True, True, True, True, True, True, True],[\"boundary_points\", \"margin\", \"w_kmeans\",1000, 0.01, 30, 10, 20])\n",
    "print(len(runs_boundary))\n",
    "#run_ids_boundary = get_run_ids(runs_boundary)\n",
    "run_ids_boundary = get_run_ids(runs_boundary.head(5))\n",
    "run_ids_boundary"
   ]
  },
  {
   "cell_type": "code",
   "execution_count": 7,
   "metadata": {},
   "outputs": [
    {
     "name": "stdout",
     "output_type": "stream",
     "text": [
      "10\n"
     ]
    },
    {
     "data": {
      "text/plain": [
       "0    7f1e5628b6334cc3a9de37e61104358d\n",
       "1    421ff61556e5461f97a973fa111c3c63\n",
       "2    ae5681ec87874fbda5bd998ad8c13970\n",
       "3    1437f6a0f73a4039ad88d8c63b54f84c\n",
       "4    d2a0054c9b594e3cb78e9adb27ac6157\n",
       "Name: run_id, dtype: object"
      ]
     },
     "execution_count": 7,
     "metadata": {},
     "output_type": "execute_result"
    }
   ],
   "source": [
    "runs_random = db.get_entries(['params.diversity_strategy', \"params.learning_rate\", \"params.max_epochs\", \"params.sampling_size\"],[True, True, True, True],[\"random\", 0.01, 30, 1000])\n",
    "print(len(runs_random))\n",
    "#run_ids_random = get_run_ids(runs_random)\n",
    "run_ids_random = get_run_ids(runs_random.head(5))\n",
    "run_ids_random"
   ]
  },
  {
   "cell_type": "code",
   "execution_count": 8,
   "metadata": {},
   "outputs": [
    {
     "name": "stdout",
     "output_type": "stream",
     "text": [
      "5\n"
     ]
    },
    {
     "data": {
      "text/plain": [
       "0    71303339bd34442b91a30eb4512fdd7a\n",
       "1    cf276eb20075433f9597b565bc27e561\n",
       "2    bb63474b616c4237b03f117358b8238c\n",
       "3    0c8b968cc2a744ee88067602a3a44dc2\n",
       "4    2600107a4da643608142c083639f9010\n",
       "Name: run_id, dtype: object"
      ]
     },
     "execution_count": 8,
     "metadata": {},
     "output_type": "execute_result"
    }
   ],
   "source": [
    "runs_random_uncertainty = db.get_entries(['params.diversity_strategy', \"params.learning_rate\", \"params.max_epochs\", \"params.sampling_size\", \"params.beta\", \"params.uncertainty\"],[True, True, True, True, True, True],[\"random_uncertainty\", 0.01, 30, 1000, 20, \"margin\"])\n",
    "print(len(runs_random_uncertainty))\n",
    "#run_ids_random = get_run_ids(runs_random)\n",
    "run_ids_random_uncertainty = get_run_ids(runs_random_uncertainty.head(5))\n",
    "run_ids_random_uncertainty"
   ]
  },
  {
   "cell_type": "code",
   "execution_count": 9,
   "metadata": {},
   "outputs": [],
   "source": [
    "samples_labeled_bp_smo, avg_accs_bp_smo = get_labeledSamples_avgAcc(run_ids_smo, tracking)\n",
    "#samples_labeled_bp_lmo, avg_accs_bp_lmo = get_labeledSamples_avgAcc(run_ids_bp_lmo, tracking)\n",
    "samples_labeled_centroids, avg_accs_centroids = get_labeledSamples_avgAcc(run_ids_centroids, tracking)\n",
    "samples_labeled_clusterwise, avg_accs_clusterwise = get_labeledSamples_avgAcc(run_ids_bp_clusterwise, tracking)\n",
    "samples_labeled_boundary, avg_accs_boundary = get_labeledSamples_avgAcc(run_ids_boundary, tracking)\n",
    "samples_labeled_random, avg_accs_random = get_labeledSamples_avgAcc(run_ids_random, tracking)\n",
    "samples_labeled_random_uncertain, avg_accs_random_uncertain = get_labeledSamples_avgAcc(run_ids_random_uncertainty, tracking)"
   ]
  },
  {
   "cell_type": "code",
   "execution_count": 10,
   "metadata": {
    "pycharm": {
     "name": "#%%\n"
    }
   },
   "outputs": [
    {
     "data": {
      "image/png": "[encoded data removed]",
      "text/plain": [
       "<Figure size 432x288 with 1 Axes>"
      ]
     },
     "metadata": {
      "needs_background": "light"
     },
     "output_type": "display_data"
    }
   ],
   "source": [
    "# plot\n",
    "plt.plot(samples_labeled_bp_smo, avg_accs_bp_smo,color='red', label='SMC', linewidth=2)\n",
    "#plt.plot(samples_labeled_bp_lmo, avg_accs_bp_lmo,color='lightgreen', label='LMC', linewidth=2)\n",
    "plt.plot(samples_labeled_centroids, avg_accs_centroids,color='blue', label='centroids', linewidth=2)\n",
    "plt.plot(samples_labeled_clusterwise, avg_accs_clusterwise,color='magenta', label='WMC', linewidth=2)\n",
    "plt.plot(samples_labeled_boundary, avg_accs_boundary,color='black', label='SMP', linestyle='--',linewidth=2)\n",
    "plt.plot(samples_labeled_random, avg_accs_random,color='yellow', label='random',linewidth=2)\n",
    "plt.legend()\n",
    "plt.xlabel('number of annotated samples')\n",
    "plt.ylabel('accuracy')\n",
    "plt.grid(b=True, color='lightgrey', linestyle='-', linewidth=1)\n",
    "plt.ylim([0.29, 0.60])\n",
    "\n",
    "plt.show()"
   ]
  },
  {
   "cell_type": "code",
   "execution_count": 11,
   "metadata": {
    "pycharm": {
     "name": "#%%"
    }
   },
   "outputs": [
    {
     "data": {
      "image/png": "[encoded data removed]",
      "text/plain": [
       "<Figure size 432x288 with 1 Axes>"
      ]
     },
     "metadata": {
      "needs_background": "light"
     },
     "output_type": "display_data"
    }
   ],
   "source": [
    "plt.plot(samples_labeled_bp_smo, avg_accs_bp_smo,color='lightgreen', label='bp_smo_canceled', linewidth=2)\n",
    "plt.plot(samples_labeled_clusterwise, avg_accs_clusterwise,color='magenta', label='bp_prop_clustersize', linewidth=2)\n",
    "plt.plot(samples_labeled_boundary, avg_accs_boundary,color='black', label='boundary_points', linestyle='--',linewidth=2)\n",
    "plt.legend()\n",
    "plt.xlabel('number of annotated samples')\n",
    "plt.ylabel('accuracy')\n",
    "plt.grid(b=True, color='lightgrey', linestyle='-', linewidth=1)\n",
    "plt.ylim([0.29, 0.58])\n",
    "\n",
    "plt.show()"
   ]
  },
  {
   "cell_type": "code",
   "execution_count": 12,
   "metadata": {
    "pycharm": {
     "name": "#%%\n"
    }
   },
   "outputs": [
    {
     "data": {
      "text/plain": [
       "array([0.2907 , 0.34936, 0.39998, 0.42064, 0.44578, 0.48312, 0.5227 ,\n",
       "       0.5428 , 0.54586, 0.56552])"
      ]
     },
     "execution_count": 12,
     "metadata": {},
     "output_type": "execute_result"
    }
   ],
   "source": [
    "avg_accs_centroids"
   ]
  },
  {
   "cell_type": "code",
   "execution_count": 13,
   "metadata": {},
   "outputs": [
    {
     "data": {
      "text/plain": [
       "array([0.29734, 0.31596, 0.37476, 0.4109 , 0.44932, 0.48566, 0.49428,\n",
       "       0.52006, 0.55316, 0.57184])"
      ]
     },
     "execution_count": 13,
     "metadata": {},
     "output_type": "execute_result"
    }
   ],
   "source": [
    "avg_accs_boundary"
   ]
  },
  {
   "cell_type": "code",
   "execution_count": 14,
   "metadata": {
    "pycharm": {
     "name": "#%%\n"
    }
   },
   "outputs": [
    {
     "data": {
      "text/plain": [
       "array([0.2852 , 0.35708, 0.38534, 0.43262, 0.462  , 0.50928, 0.51578,\n",
       "       0.54066, 0.56246, 0.55696])"
      ]
     },
     "execution_count": 14,
     "metadata": {},
     "output_type": "execute_result"
    }
   ],
   "source": [
    "avg_accs_bp_smo"
   ]
  },
  {
   "cell_type": "code",
   "execution_count": 15,
   "metadata": {},
   "outputs": [],
   "source": [
    "#avg_accs_bp_lmo"
   ]
  },
  {
   "cell_type": "code",
   "execution_count": 16,
   "metadata": {},
   "outputs": [
    {
     "data": {
      "text/plain": [
       "array([0.29642, 0.34852, 0.40638, 0.41334, 0.46312, 0.46948, 0.50908,\n",
       "       0.52632, 0.52736, 0.5603 ])"
      ]
     },
     "execution_count": 16,
     "metadata": {},
     "output_type": "execute_result"
    }
   ],
   "source": [
    "avg_accs_clusterwise"
   ]
  },
  {
   "cell_type": "code",
   "execution_count": 17,
   "metadata": {},
   "outputs": [
    {
     "data": {
      "text/plain": [
       "array([0.31016, 0.33688, 0.40374, 0.45186, 0.43506, 0.49656, 0.51994,\n",
       "       0.54958, 0.55688, 0.57726])"
      ]
     },
     "execution_count": 17,
     "metadata": {},
     "output_type": "execute_result"
    }
   ],
   "source": [
    "avg_accs_random"
   ]
  },
  {
   "cell_type": "code",
   "execution_count": 18,
   "metadata": {},
   "outputs": [
    {
     "data": {
      "text/plain": [
       "array([0.3038 , 0.35358, 0.39718, 0.41198, 0.46542, 0.47712, 0.50866,\n",
       "       0.53472, 0.554  , 0.56656])"
      ]
     },
     "execution_count": 18,
     "metadata": {},
     "output_type": "execute_result"
    }
   ],
   "source": [
    "avg_accs_random_uncertain"
   ]
  }
 ],
 "metadata": {
  "kernelspec": {
   "display_name": "Python 3",
   "language": "python",
   "name": "python3"
  },
  "language_info": {
   "codemirror_mode": {
    "name": "ipython",
    "version": 3
   },
   "file_extension": ".py",
   "mimetype": "text/x-python",
   "name": "python",
   "nbconvert_exporter": "python",
   "pygments_lexer": "ipython3",
   "version": "3.8.0"
  },
  "pycharm": {
   "stem_cell": {
    "cell_type": "raw",
    "metadata": {
     "collapsed": false
    },
    "source": [
     "%%\n",
     "\n",
     "import pandas as pd\n",
     "from mlflow.tracking import MlflowClient\n",
     "import numpy as np\n",
     "\n",
     "from matplotlib import pyplot as plt\n",
     "from src.database.mlflow import MLFlowClient\n",
     "from src.database.mlflow import MLFlowClient\n",
     "%matplotlib inline\n",
     "# %pylab\n",
     "\n",
     "import sys\n",
     "import glob\n",
     "sys.path.append('../')\n"
    ]
   }
  }
 },
 "nbformat": 4,
 "nbformat_minor": 1
}
