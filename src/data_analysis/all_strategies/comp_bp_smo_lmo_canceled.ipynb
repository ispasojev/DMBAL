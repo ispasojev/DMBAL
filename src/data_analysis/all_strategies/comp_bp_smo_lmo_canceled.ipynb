{
 "cells": [
  {
   "cell_type": "code",
   "execution_count": 1,
   "metadata": {},
   "outputs": [
    {
     "name": "stderr",
     "output_type": "stream",
     "text": [
      "/Users/ilijanaspasojevic/PycharmProjects/dmbal/src/data_analysis/analysis_helpers.py:1: FutureWarning: The pandas.np module is deprecated and will be removed from pandas in a future version. Import numpy directly instead\n",
      "  from pandas import np\n"
     ]
    },
    {
     "name": "stdout",
     "output_type": "stream",
     "text": [
      "10\n",
      "0    9ab696d7bdad462e9fc2434c7c34eac6\n",
      "1    61ce16ab6d444df4a67961ad01e7c44e\n",
      "2    5406131805f04c69b5135a9bdc83c8af\n",
      "3    333ecd4379d34f2a88f6fd6537ed5eac\n",
      "4    b95abd020b9f405ead4993c76b34e233\n",
      "5    af5383be32dd46a99d894a3d596930ad\n",
      "6    a044587124f847d08a94b9692eb59549\n",
      "7    b4ac311b2d55493092fbca84b1dbeca9\n",
      "8    a42be7fba7fb43ec91c9a56b858c4be2\n",
      "9    14cb91895bd843f094d5a571c09bd737\n",
      "Name: run_id, dtype: object\n"
     ]
    }
   ],
   "source": [
    "import pandas as pd\n",
    "from mlflow.tracking import MlflowClient\n",
    "import numpy as np\n",
    "\n",
    "from matplotlib import pyplot as plt\n",
    "from src.data_analysis.analysis_helpers import get_run_ids, get_labeledSamples_avgAcc, get_out_dirs\n",
    "from src.database.mlflow import MLFlowClient\n",
    "from src.database.mlflow import MLFlowClient\n",
    "%matplotlib inline\n",
    "# %pylab\n",
    "\n",
    "import sys\n",
    "import glob\n",
    "sys.path.append('../')\n",
    "\n",
    "from mlflow.tracking import MlflowClient\n",
    "from src.database.mlflow import MLFlowClient\n",
    "db = MLFlowClient(tracking_uri=\"http://mlflow.dbs.ifi.lmu.de:5000/\", experiment_name=\"DMBAL\")\n",
    "tracking = MlflowClient()\n",
    "\n",
    "runs_bp_smo = db.get_entries(['params.diversity_strategy', \"params.uncertainty\", \"params.clustering\", \"params.number_clusters\",\"params.max_epochs\", \"params.learning_rate\", \"params.optimizer\"],[True, True, True, True, True, True, True],[\"bp_smo_canceled\", \"margin\", \"kmeans\",10, 30, 0.01, \"Adam\"])\n",
    "print(len(runs_bp_smo))\n",
    "run_ids_smo = get_run_ids(runs_bp_smo)\n",
    "#print('/nfs/data3/obermeier/dmbal/experiments/' + run_ids_smo.array[0])\n",
    "print(run_ids_smo)"
   ]
  },
  {
   "cell_type": "code",
   "execution_count": 2,
   "metadata": {
    "pycharm": {
     "name": "#%%\n"
    }
   },
   "outputs": [
    {
     "name": "stdout",
     "output_type": "stream",
     "text": [
      "10\n",
      "['/nfs/data3/obermeier/dmbal/experiments/52cb83fe7df64b5baf369ee172b4194b'\n",
      " '/nfs/data3/obermeier/dmbal/experiments/cf55da05f9014799a7ea6c4c6f189e8b'\n",
      " '/nfs/data3/obermeier/dmbal/experiments/3cac9b6bb43a46ba89174d5545b1472b'\n",
      " '/nfs/data3/obermeier/dmbal/experiments/942d8a9d4b8949da936e56b7bebf2961'\n",
      " '/nfs/data3/obermeier/dmbal/experiments/8f2de7f57bef4d6889af99c1bada9d9f'\n",
      " '/nfs/data3/obermeier/dmbal/experiments/82450bc16f3549e7b4f78993e2d7482d'\n",
      " '/nfs/data3/obermeier/dmbal/experiments/1639246723fe44dbad66fe5155028d10'\n",
      " '/nfs/data3/obermeier/dmbal/experiments/9f493c52db5d4502aa1bac79bbe4f058'\n",
      " '/nfs/data3/obermeier/dmbal/experiments/30dd1731ef874173b1de5d7bd0bd2c2d'\n",
      " '/nfs/data3/obermeier/dmbal/experiments/9f21365e4d504368b52a04455a7a25b1']\n"
     ]
    }
   ],
   "source": [
    "# def get_out_dirs(run_ids):\n",
    "#     out_dir = '/nfs/data3/obermeier/dmbal/experiments/' + run_ids.array[0]\n",
    "#     out_dirs = np.array(out_dir)\n",
    "#     i=1\n",
    "#     while i < len(run_ids.array):\n",
    "#         out_dir = '/nfs/data3/obermeier/dmbal/experiments/' + run_ids.array[i]\n",
    "#         out_dirs = np.append(out_dirs, out_dir)\n",
    "#         i+=1\n",
    "#     return out_dirs\n",
    "\n",
    "runs_bp_lmo = db.get_entries(['params.diversity_strategy', \"params.uncertainty\", \"params.clustering\", \"params.max_epochs\", \"params.learning_rate\"],[True, True, True, True, True],[\"bp_lmo_canceled\", \"margin\", \"kmeans\", 30, 0.01])\n",
    "print(len(runs_bp_lmo))\n",
    "run_ids_bp_lmo = get_run_ids(runs_bp_lmo)\n",
    "out_dirs = get_out_dirs(run_ids_bp_lmo)\n",
    "print(out_dirs)\n"
   ]
  },
  {
   "cell_type": "code",
   "execution_count": 3,
   "metadata": {
    "pycharm": {
     "name": "#%%\n"
    }
   },
   "outputs": [],
   "source": [
    "samples_labeled_bp_smo, avg_accs_bp_smo = get_labeledSamples_avgAcc(run_ids_smo, tracking)\n",
    "samples_labeled_bp_lmo, avg_accs_bp_lmo = get_labeledSamples_avgAcc(run_ids_bp_lmo, tracking)"
   ]
  },
  {
   "cell_type": "code",
   "execution_count": 4,
   "metadata": {
    "pycharm": {
     "name": "#%%\n"
    }
   },
   "outputs": [
    {
     "data": {
      "image/png": "[encoded data removed]",
      "text/plain": [
       "<Figure size 432x288 with 1 Axes>"
      ]
     },
     "metadata": {
      "needs_background": "light"
     },
     "output_type": "display_data"
    }
   ],
   "source": [
    "# plot\n",
    "plt.plot(samples_labeled_bp_smo, avg_accs_bp_smo,color='red', label='bp_smo_canceled')\n",
    "plt.plot(samples_labeled_bp_lmo, avg_accs_bp_lmo,color='green', label='bp_lmo_canceled')\n",
    "plt.legend()\n",
    "plt.title(f\"Comparing diversity strategies\")\n",
    "plt.grid(b=True, color='lightgrey', linestyle='-', linewidth=1)\n",
    "plt.ylim([0.29, 0.65])\n",
    "\n",
    "plt.show()"
   ]
  },
  {
   "cell_type": "code",
   "execution_count": null,
   "metadata": {
    "pycharm": {
     "name": "#%%\n"
    }
   },
   "outputs": [],
   "source": [
    "\n"
   ]
  }
 ],
 "metadata": {
  "kernelspec": {
   "display_name": "Python 3",
   "language": "python",
   "name": "python3"
  },
  "language_info": {
   "codemirror_mode": {
    "name": "ipython",
    "version": 3
   },
   "file_extension": ".py",
   "mimetype": "text/x-python",
   "name": "python",
   "nbconvert_exporter": "python",
   "pygments_lexer": "ipython3",
   "version": "3.8.0"
  },
  "pycharm": {
   "stem_cell": {
    "cell_type": "raw",
    "source": [
     "%%\n",
     "\n",
     "import pandas as pd\n",
     "from mlflow.tracking import MlflowClient\n",
     "import numpy as np\n",
     "\n",
     "from matplotlib import pyplot as plt\n",
     "from src.database.mlflow import MLFlowClient\n",
     "from src.database.mlflow import MLFlowClient\n",
     "%matplotlib inline\n",
     "# %pylab\n",
     "\n",
     "import sys\n",
     "import glob\n",
     "sys.path.append('../')\n"
    ],
    "metadata": {
     "collapsed": false
    }
   }
  }
 },
 "nbformat": 4,
 "nbformat_minor": 1
}