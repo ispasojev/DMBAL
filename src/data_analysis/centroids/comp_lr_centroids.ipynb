{
 "cells": [
  {
   "cell_type": "code",
   "execution_count": 48,
   "metadata": {
    "pycharm": {
     "name": "#%%\n"
    }
   },
   "outputs": [
    {
     "name": "stdout",
     "output_type": "stream",
     "text": [
      "10\n"
     ]
    }
   ],
   "source": [
    "import pandas as pd\n",
    "from mlflow.tracking import MlflowClient\n",
    "import numpy as np\n",
    "\n",
    "from matplotlib import pyplot as plt\n",
    "from src.data_analysis.analysis_helpers import get_run_ids, get_labeledSamples_avgAcc\n",
    "from src.database.mlflow import MLFlowClient\n",
    "from src.database.mlflow import MLFlowClient\n",
    "%matplotlib inline\n",
    "# %pylab\n",
    "\n",
    "import sys\n",
    "import glob\n",
    "sys.path.append('../')\n",
    "\n",
    "from mlflow.tracking import MlflowClient\n",
    "from src.database.mlflow import MLFlowClient\n",
    "db = MLFlowClient(tracking_uri=\"http://mlflow.dbs.ifi.lmu.de:5000/\", experiment_name=\"DMBAL\")\n",
    "tracking = MlflowClient()\n",
    "\n",
    "######## FOR KMEANS LR=0.01, MAX_EPOCHS=30\n",
    "runs_lr_0_01 = db.get_entries(['params.diversity_strategy', \"params.uncertainty\", \"params.clustering\", \"params.k\",\"params.max_epochs\", \"params.learning_rate\"],[True, True, True, True, True, True],[\"centroids\", \"margin\", \"kmeans\",1000, 30, 0.01])\n",
    "print(len(runs_lr_0_01))\n",
    "run_ids_lr_0_01 = get_run_ids(runs_lr_0_01)"
   ]
  },
  {
   "cell_type": "code",
   "execution_count": 49,
   "metadata": {
    "pycharm": {
     "name": "#%%\n"
    }
   },
   "outputs": [
    {
     "name": "stdout",
     "output_type": "stream",
     "text": [
      "10\n"
     ]
    }
   ],
   "source": [
    "######## FOR KMEANS LR=0.1, MAX_EPOCHS=30\n",
    "runs_lr_0_1 = db.get_entries(['params.diversity_strategy', \"params.uncertainty\", \"params.clustering\", \"params.k\",\"params.max_epochs\", \"params.learning_rate\"],[True, True, True, True, True, True],[\"centroids\", \"margin\", \"kmeans\",1000, 30, 0.1])\n",
    "print(len(runs_lr_0_1))\n",
    "run_ids_lr_0_1 = get_run_ids(runs_lr_0_1)"
   ]
  },
  {
   "cell_type": "code",
   "execution_count": 50,
   "metadata": {
    "pycharm": {
     "name": "#%%\n"
    }
   },
   "outputs": [
    {
     "name": "stdout",
     "output_type": "stream",
     "text": [
      "10\n"
     ]
    }
   ],
   "source": [
    "######## FOR KMEANS LR=0.03, MAX_EPOCHS=30\n",
    "runs_lr_0_03 = db.get_entries(['params.diversity_strategy', \"params.uncertainty\", \"params.clustering\", \"params.k\",\"params.max_epochs\", \"params.learning_rate\"],[True, True, True, True, True, True],[\"centroids\", \"margin\", \"kmeans\",1000, 30, 0.03])\n",
    "print(len(runs_lr_0_03))\n",
    "run_ids_lr_0_03 = get_run_ids(runs_lr_0_03)"
   ]
  },
  {
   "cell_type": "code",
   "execution_count": 52,
   "metadata": {
    "pycharm": {
     "name": "#%%\n"
    }
   },
   "outputs": [],
   "source": [
    "samples_labeled_lr_0_01, avg_accs_lr_0_01 = get_labeledSamples_avgAcc(run_ids_lr_0_01, tracking)\n",
    "samples_labeled_lr_0_1, avg_accs_lr_0_1 = get_labeledSamples_avgAcc(run_ids_lr_0_1, tracking)\n",
    "samples_labeled_lr_0_03, avg_accs_lr_0_03 = get_labeledSamples_avgAcc(run_ids_lr_0_03, tracking)"
   ]
  },
  {
   "cell_type": "code",
   "execution_count": 53,
   "metadata": {
    "pycharm": {
     "name": "#%%\n"
    }
   },
   "outputs": [
    {
     "data": {
      "image/png": "[encoded data removed]",
      "text/plain": [
       "<Figure size 432x288 with 1 Axes>"
      ]
     },
     "metadata": {
      "needs_background": "light"
     },
     "output_type": "display_data"
    }
   ],
   "source": [
    "# plot\n",
    "plt.plot(samples_labeled_lr_0_01, avg_accs_lr_0_01,color='red', label='lr=0.01')\n",
    "plt.plot(samples_labeled_lr_0_1, avg_accs_lr_0_1,color='green', label='lr=0.1')\n",
    "plt.plot(samples_labeled_lr_0_03, avg_accs_lr_0_03,color='blue', label='lr=0.03')\n",
    "plt.legend()\n",
    "plt.title(f\"Centroids strategy: Comparing learning rates\")\n",
    "plt.grid(b=True, color='lightgrey', linestyle='-', linewidth=1)\n",
    "plt.ylim([0.29, 0.65])\n",
    "\n",
    "plt.show()"
   ]
  },
  {
   "cell_type": "code",
   "execution_count": null,
   "metadata": {
    "pycharm": {
     "name": "#%%\n"
    }
   },
   "outputs": [],
   "source": []
  }
 ],
 "metadata": {
  "kernelspec": {
   "display_name": "Python 3",
   "language": "python",
   "name": "python3"
  },
  "language_info": {
   "codemirror_mode": {
    "name": "ipython",
    "version": 3
   },
   "file_extension": ".py",
   "mimetype": "text/x-python",
   "name": "python",
   "nbconvert_exporter": "python",
   "pygments_lexer": "ipython3",
   "version": "3.8.0"
  },
  "pycharm": {
   "stem_cell": {
    "cell_type": "raw",
    "source": [
     "%%\n",
     "\n",
     "import pandas as pd\n",
     "from mlflow.tracking import MlflowClient\n",
     "import numpy as np\n",
     "\n",
     "from matplotlib import pyplot as plt\n",
     "from src.database.mlflow import MLFlowClient\n",
     "from src.database.mlflow import MLFlowClient\n",
     "%matplotlib inline\n",
     "# %pylab\n",
     "\n",
     "import sys\n",
     "import glob\n",
     "sys.path.append('../')\n"
    ],
    "metadata": {
     "collapsed": false
    }
   }
  }
 },
 "nbformat": 4,
 "nbformat_minor": 1
}