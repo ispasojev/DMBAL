{
 "cells": [
  {
   "cell_type": "code",
   "execution_count": 1,
   "metadata": {},
   "outputs": [
    {
     "name": "stderr",
     "output_type": "stream",
     "text": [
      "/Users/ilijanaspasojevic/PycharmProjects/dmbal/src/data_analysis/analysis_helpers.py:1: FutureWarning: The pandas.np module is deprecated and will be removed from pandas in a future version. Import numpy directly instead\n",
      "  from pandas import np\n"
     ]
    }
   ],
   "source": [
    "import pandas as pd\n",
    "from mlflow.tracking import MlflowClient\n",
    "import numpy as np\n",
    "\n",
    "from matplotlib import pyplot as plt\n",
    "from src.data_analysis.analysis_helpers import get_run_ids, get_labeledSamples_avgAcc, get_out_dirs, get_labeledSamples_avgAcc_withBounds\n",
    "from src.database.mlflow import MLFlowClient\n",
    "from src.database.mlflow import MLFlowClient\n",
    "%matplotlib inline\n",
    "# %pylab\n",
    "\n",
    "import sys\n",
    "import glob\n",
    "sys.path.append('../')\n",
    "\n",
    "from mlflow.tracking import MlflowClient\n",
    "from src.database.mlflow import MLFlowClient\n",
    "db = MLFlowClient(tracking_uri=\"http://mlflow.dbs.ifi.lmu.de:5000/\", experiment_name=\"DMBAL\")\n",
    "tracking = MlflowClient()"
   ]
  },
  {
   "cell_type": "code",
   "execution_count": 2,
   "metadata": {},
   "outputs": [
    {
     "name": "stdout",
     "output_type": "stream",
     "text": [
      "5\n"
     ]
    },
    {
     "data": {
      "text/plain": [
       "0    457ac1b278f244b68de7cd6a94ed4ca6\n",
       "1    2f9ebdbce5f249f49310c550c1fd9bfe\n",
       "2    d2230c8c927241f0a6c1a6f520f2a748\n",
       "3    ee3521ae05d74756af277dc69f76c5fc\n",
       "4    32e692aaab8e4117b61da3004c7db8cc\n",
       "Name: run_id, dtype: object"
      ]
     },
     "execution_count": 2,
     "metadata": {},
     "output_type": "execute_result"
    }
   ],
   "source": [
    "runs_bp_smo = db.get_entries(['params.diversity_strategy', \"params.uncertainty\", \"params.clustering\", \"params.number_clusters\",\"params.max_epochs\", \"params.learning_rate\", \"params.optimizer\", \"params.beta\"],[True, True, True, True, True, True, True, True],[\"bp_smo_canceled\", \"margin\", \"kmeans\",10, 30, 0.01, \"Adam\",20])\n",
    "print(len(runs_bp_smo))\n",
    "run_ids_smo = get_run_ids(runs_bp_smo.head(5))\n",
    "run_ids_smo"
   ]
  },
  {
   "cell_type": "code",
   "execution_count": 3,
   "metadata": {
    "pycharm": {
     "name": "#%%\n"
    }
   },
   "outputs": [
    {
     "name": "stdout",
     "output_type": "stream",
     "text": [
      "5\n"
     ]
    },
    {
     "data": {
      "text/plain": [
       "0    ff6f061a01b54885a4f7051e4f551392\n",
       "1    42f22498f3a5456ca567369502d97037\n",
       "2    eb39fb03d91a4370b3702f41dba833c9\n",
       "3    451a3d3a2690425b9aacf70042e62823\n",
       "4    d479032b68824f46946518e1b534cbbe\n",
       "Name: run_id, dtype: object"
      ]
     },
     "execution_count": 3,
     "metadata": {},
     "output_type": "execute_result"
    }
   ],
   "source": [
    "runs_bp_smo_wkmeans = db.get_entries(['params.diversity_strategy', \"params.uncertainty\", \"params.clustering\", \"params.number_clusters\",\"params.max_epochs\", \"params.learning_rate\", \"params.optimizer\", \"params.beta\"],[True, True, True, True, True, True, True, True],[\"bp_smo_canceled\", \"margin\", \"w_kmeans\",10, 30, 0.01, \"Adam\",20])\n",
    "print(len(runs_bp_smo_wkmeans))\n",
    "run_ids_smo_wkmeans = get_run_ids(runs_bp_smo_wkmeans.head(5))\n",
    "run_ids_smo_wkmeans"
   ]
  },
  {
   "cell_type": "code",
   "execution_count": 4,
   "metadata": {},
   "outputs": [
    {
     "name": "stdout",
     "output_type": "stream",
     "text": [
      "5\n"
     ]
    },
    {
     "data": {
      "text/plain": [
       "0    46e0e3c52d3e4bd1911ba2746e79d265\n",
       "1    86cdbac1a89d413ab827426daa88b577\n",
       "2    84a98cff23b048cf87bc001316584cfe\n",
       "3    ed2c66f9e675432a8d232ab1ffc88ef0\n",
       "4    0b758e28c50a4503b7230190b83ed45b\n",
       "Name: run_id, dtype: object"
      ]
     },
     "execution_count": 4,
     "metadata": {},
     "output_type": "execute_result"
    }
   ],
   "source": [
    "runs_centroids = db.get_entries(['params.diversity_strategy', \"params.uncertainty\", \"params.clustering\", \"params.k\",\"params.max_epochs\", \"params.learning_rate\", \"params.optimizer\", \"params.beta\"],[True, True, True, True, True, True, True, True],[\"centroids\", \"margin\", \"kmeans\",1000, 30, 0.01, \"Adam\", 20])\n",
    "print(len(runs_centroids))\n",
    "run_ids_centroids = get_run_ids(runs_centroids.head(5))\n",
    "run_ids_centroids"
   ]
  },
  {
   "cell_type": "code",
   "execution_count": 5,
   "metadata": {},
   "outputs": [
    {
     "name": "stdout",
     "output_type": "stream",
     "text": [
      "5\n"
     ]
    },
    {
     "data": {
      "text/plain": [
       "0    cc75f9e086614f13ba0e3848bac19e13\n",
       "1    b097c695970a429ab2ceab5ccc7d3850\n",
       "2    87e2c60557dc4d8a8f7734c695bb283d\n",
       "3    22cd3fe1f47c4f91a2202dd14d53fb84\n",
       "4    b2a73088820c4bda989183ab5dd8d58b\n",
       "Name: run_id, dtype: object"
      ]
     },
     "execution_count": 5,
     "metadata": {},
     "output_type": "execute_result"
    }
   ],
   "source": [
    "runs_centroids_wkmeans = db.get_entries(['params.diversity_strategy', \"params.uncertainty\", \"params.clustering\", \"params.k\",\"params.max_epochs\", \"params.learning_rate\", \"params.optimizer\", \"params.beta\"],[True, True, True, True, True, True, True, True],[\"centroids\", \"margin\", \"w_kmeans\",1000, 30, 0.01, \"Adam\", 20])\n",
    "print(len(runs_centroids_wkmeans))\n",
    "run_ids_centroids_wkmeans = get_run_ids(runs_centroids_wkmeans.head(5))\n",
    "run_ids_centroids_wkmeans"
   ]
  },
  {
   "cell_type": "code",
   "execution_count": 6,
   "metadata": {
    "pycharm": {
     "name": "#%%\n"
    }
   },
   "outputs": [
    {
     "name": "stdout",
     "output_type": "stream",
     "text": [
      "5\n"
     ]
    },
    {
     "data": {
      "text/plain": [
       "0    1a0a107242d846cf93fe7fa58044c5fa\n",
       "1    a03ca221668043c79a58c6844eaf13c2\n",
       "2    c08bfd0f076f4b16835be2be84b619ed\n",
       "3    1e82eb74b8e64b248372239567f34d27\n",
       "4    dc72d6e3d5a4436889403f676e8bcec0\n",
       "Name: run_id, dtype: object"
      ]
     },
     "execution_count": 6,
     "metadata": {},
     "output_type": "execute_result"
    }
   ],
   "source": [
    "runs_bp_clusterwise = db.get_entries(['params.diversity_strategy', \"params.uncertainty\", \"params.clustering\", \"params.k\",\"params.max_epochs\", \"params.learning_rate\", \"params.number_clusters\", \"params.beta\"],[True, True, True, True, True, True, True, True],[\"bp_prop_clustersize\", \"margin\", \"kmeans\",1000, 30, 0.01, 10, 20])\n",
    "print(len(runs_bp_clusterwise))\n",
    "run_ids_bp_clusterwise = get_run_ids(runs_bp_clusterwise.head(5))\n",
    "run_ids_bp_clusterwise"
   ]
  },
  {
   "cell_type": "code",
   "execution_count": 7,
   "metadata": {},
   "outputs": [
    {
     "name": "stdout",
     "output_type": "stream",
     "text": [
      "5\n"
     ]
    },
    {
     "data": {
      "text/plain": [
       "0    e66f7f96068348759e18b58d686055dc\n",
       "1    024b03caca844972804548cca2842961\n",
       "2    0e6bb3de3eb34475848840a6453ef5f8\n",
       "3    ff69d65bf3dd400cb853173b7b627c62\n",
       "4    312544bfa2d642488d27f12530985e1f\n",
       "Name: run_id, dtype: object"
      ]
     },
     "execution_count": 7,
     "metadata": {},
     "output_type": "execute_result"
    }
   ],
   "source": [
    "runs_bp_clusterwise_wkmeans = db.get_entries(['params.diversity_strategy', \"params.uncertainty\", \"params.clustering\", \"params.k\",\"params.max_epochs\", \"params.learning_rate\", \"params.number_clusters\", \"params.beta\"],[True, True, True, True, True, True, True, True],[\"bp_prop_clustersize\", \"margin\", \"w_kmeans\",1000, 30, 0.01, 10, 20])\n",
    "print(len(runs_bp_clusterwise_wkmeans))\n",
    "run_ids_bp_clusterwise_wkmeans = get_run_ids(runs_bp_clusterwise_wkmeans.head(5))\n",
    "run_ids_bp_clusterwise_wkmeans"
   ]
  },
  {
   "cell_type": "code",
   "execution_count": 8,
   "metadata": {},
   "outputs": [
    {
     "name": "stdout",
     "output_type": "stream",
     "text": [
      "5\n"
     ]
    },
    {
     "data": {
      "text/plain": [
       "0    67affb65690a4ebb80e99aaa1fa5087b\n",
       "1    d68377684b484600af5f3ac419805411\n",
       "2    bc8ca604b3b247c4afee737b7c57b718\n",
       "3    4522d3631cd74ca7a3c862a05c4ddc22\n",
       "4    0c7c4aa971a647548d2a8810d978b38d\n",
       "Name: run_id, dtype: object"
      ]
     },
     "execution_count": 8,
     "metadata": {},
     "output_type": "execute_result"
    }
   ],
   "source": [
    "runs_boundary = db.get_entries(['params.diversity_strategy', \"params.uncertainty\", \"params.clustering\", \"params.k\", \"params.learning_rate\", \"params.max_epochs\", \"params.number_clusters\", \"params.beta\"],[True, True, True, True, True, True, True, True],[\"boundary_points\", \"margin\", \"kmeans\",1000, 0.01, 30, 10, 20])\n",
    "print(len(runs_boundary))\n",
    "run_ids_boundary = get_run_ids(runs_boundary.head(5))\n",
    "run_ids_boundary"
   ]
  },
  {
   "cell_type": "code",
   "execution_count": 9,
   "metadata": {},
   "outputs": [
    {
     "name": "stdout",
     "output_type": "stream",
     "text": [
      "5\n"
     ]
    },
    {
     "data": {
      "text/plain": [
       "0    adec891281564b35af6b0e77566a40a2\n",
       "1    249dc24345c64f48ba9fb7acce67dc80\n",
       "2    fcf4e4b446d945c6b0df9d9db45fb5fa\n",
       "3    c2d4c2b564014ff4b2f407218ce13823\n",
       "4    832e95e0e5c24c95bdee249c23579083\n",
       "Name: run_id, dtype: object"
      ]
     },
     "execution_count": 9,
     "metadata": {},
     "output_type": "execute_result"
    }
   ],
   "source": [
    "runs_boundary_wkmeans = db.get_entries(['params.diversity_strategy', \"params.uncertainty\", \"params.clustering\", \"params.k\", \"params.learning_rate\", \"params.max_epochs\", \"params.number_clusters\", \"params.beta\"],[True, True, True, True, True, True, True, True],[\"boundary_points\", \"margin\", \"w_kmeans\",1000, 0.01, 30, 10, 20])\n",
    "print(len(runs_boundary_wkmeans))\n",
    "run_ids_boundary_wkmeans = get_run_ids(runs_boundary_wkmeans.head(5))\n",
    "run_ids_boundary_wkmeans"
   ]
  },
  {
   "cell_type": "code",
   "execution_count": 10,
   "metadata": {},
   "outputs": [
    {
     "name": "stdout",
     "output_type": "stream",
     "text": [
      "5\n"
     ]
    },
    {
     "data": {
      "text/plain": [
       "0    71303339bd34442b91a30eb4512fdd7a\n",
       "1    cf276eb20075433f9597b565bc27e561\n",
       "2    bb63474b616c4237b03f117358b8238c\n",
       "3    0c8b968cc2a744ee88067602a3a44dc2\n",
       "4    2600107a4da643608142c083639f9010\n",
       "Name: run_id, dtype: object"
      ]
     },
     "execution_count": 10,
     "metadata": {},
     "output_type": "execute_result"
    }
   ],
   "source": [
    "runs_random_uncertainty = db.get_entries(['params.diversity_strategy', \"params.learning_rate\", \"params.max_epochs\", \"params.sampling_size\", \"params.beta\", \"params.uncertainty\"],[True, True, True, True, True, True],[\"random_uncertainty\", 0.01, 30, 1000, 20, \"margin\"])\n",
    "print(len(runs_random_uncertainty))\n",
    "run_ids_random_uncertainty = get_run_ids(runs_random_uncertainty.head(5))\n",
    "run_ids_random_uncertainty"
   ]
  },
  {
   "cell_type": "code",
   "execution_count": 11,
   "metadata": {},
   "outputs": [],
   "source": [
    "samples_labeled_bp_smo, avg_accs_bp_smo, lower_smo, upper_smo = get_labeledSamples_avgAcc_withBounds(run_ids_smo, tracking)\n",
    "samples_labeled_bp_smo_wkmeans, avg_accs_bp_smo_wkmeans, lower_smo_wk, upper_smo_wk = get_labeledSamples_avgAcc_withBounds(run_ids_smo_wkmeans, tracking)\n",
    "\n",
    "samples_labeled_centroids, avg_accs_centroids, lower_cent, upper_cent = get_labeledSamples_avgAcc_withBounds(run_ids_centroids, tracking)\n",
    "samples_labeled_centroids_wkmeans, avg_accs_centroids_wkmeans, lower_cent_wk, upper_cent_wk = get_labeledSamples_avgAcc_withBounds(run_ids_centroids_wkmeans, tracking)\n",
    "\n",
    "samples_labeled_clusterwise, avg_accs_clusterwise, lower_clust, upper_clust = get_labeledSamples_avgAcc_withBounds(run_ids_bp_clusterwise, tracking)\n",
    "samples_labeled_clusterwise_wkmeans, avg_accs_clusterwise_wkmeans, lower_clust_wk, upper_clust_wk = get_labeledSamples_avgAcc_withBounds(run_ids_bp_clusterwise_wkmeans, tracking)\n",
    "\n",
    "samples_labeled_boundary, avg_accs_boundary, lower_bp, upper_bp = get_labeledSamples_avgAcc_withBounds(run_ids_boundary, tracking)\n",
    "samples_labeled_boundary_wkmeans, avg_accs_boundary_wkmeans, lower_bp_wk, upper_bp_wk = get_labeledSamples_avgAcc_withBounds(run_ids_boundary_wkmeans, tracking)\n",
    "\n",
    "samples_labeled_random_uncertain, avg_accs_random_uncertain, lower_rc, upper_rc = get_labeledSamples_avgAcc_withBounds(run_ids_random_uncertainty, tracking)"
   ]
  },
  {
   "cell_type": "code",
   "execution_count": 23,
   "metadata": {
    "pycharm": {
     "name": "#%%\n"
    }
   },
   "outputs": [
    {
     "data": {
      "image/png": "[encoded data removed]",
      "text/plain": [
       "<Figure size 720x720 with 1 Axes>"
      ]
     },
     "metadata": {
      "needs_background": "light"
     },
     "output_type": "display_data"
    }
   ],
   "source": [
    "# plot\n",
    "plt.figure( figsize=(10,10) )\n",
    "#plt.plot(samples_labeled_bp_smo, avg_accs_bp_smo,color='red', label='kmeans: SMC', linewidth=2)\n",
    "#plt.fill_between(samples_labeled_bp_smo, lower_smo, upper_smo, alpha=0.2, color='red')\n",
    "#plt.plot(samples_labeled_bp_smo_wkmeans, avg_accs_bp_smo_wkmeans,color='red', label='wkmeans: SMC', linestyle='--', linewidth=2)\n",
    "#plt.fill_between(samples_labeled_bp_smo_wkmeans, lower_smo_wk, upper_smo_wk, alpha=0.2, color='red')\n",
    "\n",
    "#plt.plot(samples_labeled_centroids, avg_accs_centroids,color='blue', label='kmeans: centroids', linewidth=2)\n",
    "#plt.fill_between(samples_labeled_centroids, lower_cent, upper_cent, alpha=0.2, color='blue')\n",
    "plt.plot(samples_labeled_centroids_wkmeans, avg_accs_centroids_wkmeans,color='blue', label='wkmeans: centroids', linestyle='--', linewidth=2)\n",
    "plt.fill_between(samples_labeled_centroids_wkmeans, lower_cent_wk, upper_cent_wk, alpha=0.2, color='blue')\n",
    "\n",
    "#plt.plot(samples_labeled_clusterwise, avg_accs_clusterwise,color='magenta', label='kmeans: WMC', linewidth=2)\n",
    "#plt.fill_between(samples_labeled_clusterwise, lower_clust, upper_clust, alpha=0.2, color='magenta')\n",
    "#plt.plot(samples_labeled_clusterwise_wkmeans, avg_accs_clusterwise_wkmeans,color='magenta', label='wkmeans: WMC', linestyle='--', linewidth=2)\n",
    "#plt.fill_between(samples_labeled_clusterwise_wkmeans, lower_clust_wk, upper_clust_wk, alpha=0.2, color='magenta')\n",
    "\n",
    "#plt.plot(samples_labeled_boundary, avg_accs_boundary,color='black', label='kmeans: SMP', linewidth=2)\n",
    "#plt.fill_between(samples_labeled_boundary, lower_bp, upper_bp, alpha=0.2, color='black')\n",
    "plt.plot(samples_labeled_boundary_wkmeans, avg_accs_boundary_wkmeans,color='black', label='wkmeans: SMP', linestyle='--', linewidth=2)\n",
    "plt.fill_between(samples_labeled_boundary_wkmeans, lower_bp_wk, upper_bp_wk, alpha=0.2, color='black')\n",
    "\n",
    "#plt.plot(samples_labeled_random_uncertain, avg_accs_random_uncertain,color='yellow', label='RC',linewidth=2)\n",
    "#plt.fill_between(samples_labeled_random_uncertain, lower_rc, upper_rc, alpha=0.2, color='yellow')\n",
    "\n",
    "plt.legend()\n",
    "plt.xlabel('number of annotated samples')\n",
    "plt.ylabel('accuracy')\n",
    "plt.grid(b=True, color='lightgrey', linestyle='-', linewidth=1)\n",
    "plt.ylim([0.29, 0.62])\n",
    "plt.legend(bbox_to_anchor=(1,0.83), loc=\"upper left\", prop={\"size\":15})\n",
    "#plt.savefig('/Users/ilijanaspasojevic/PycharmProjects/dmbal/src/data_analysis/figures/line_charts/beta10.png')\n",
    "plt.show()"
   ]
  },
  {
   "cell_type": "code",
   "execution_count": null,
   "metadata": {},
   "outputs": [],
   "source": []
  },
  {
   "cell_type": "code",
   "execution_count": null,
   "metadata": {},
   "outputs": [],
   "source": []
  }
 ],
 "metadata": {
  "kernelspec": {
   "display_name": "Python 3",
   "language": "python",
   "name": "python3"
  },
  "language_info": {
   "codemirror_mode": {
    "name": "ipython",
    "version": 3
   },
   "file_extension": ".py",
   "mimetype": "text/x-python",
   "name": "python",
   "nbconvert_exporter": "python",
   "pygments_lexer": "ipython3",
   "version": "3.8.0"
  },
  "pycharm": {
   "stem_cell": {
    "cell_type": "raw",
    "source": [
     "%%\n",
     "\n",
     "import pandas as pd\n",
     "from mlflow.tracking import MlflowClient\n",
     "import numpy as np\n",
     "\n",
     "from matplotlib import pyplot as plt\n",
     "from src.database.mlflow import MLFlowClient\n",
     "from src.database.mlflow import MLFlowClient\n",
     "%matplotlib inline\n",
     "# %pylab\n",
     "\n",
     "import sys\n",
     "import glob\n",
     "sys.path.append('../')\n"
    ],
    "metadata": {
     "collapsed": false
    }
   }
  }
 },
 "nbformat": 4,
 "nbformat_minor": 1
}